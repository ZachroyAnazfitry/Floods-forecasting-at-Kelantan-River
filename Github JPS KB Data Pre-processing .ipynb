{
 "cells": [
  {
   "cell_type": "markdown",
   "metadata": {},
   "source": [
    "## Data Pre-processing for Kota Bharu dataset\n",
    "\n",
    "I inspect the dataframe for:\n",
    "1. missing values\n",
    "2. convert data types\n",
    "3. remove unnecessary column\n",
    "4. identify unique value\n",
    "5. remove characters\n",
    "6. provide descriptive/summary statistics\n",
    "7. visualize data\n",
    "8. measure correlation"
   ]
  },
  {
   "cell_type": "code",
   "execution_count": 2,
   "metadata": {},
   "outputs": [],
   "source": [
    "import pandas as pd\n",
    "import numpy as np\n",
    "import matplotlib.pyplot as plt\n",
    "\n",
    "import warnings\n",
    "warnings.filterwarnings('ignore')"
   ]
  },
  {
   "cell_type": "code",
   "execution_count": 3,
   "metadata": {},
   "outputs": [
    {
     "data": {
      "text/html": [
       "<div>\n",
       "<style scoped>\n",
       "    .dataframe tbody tr th:only-of-type {\n",
       "        vertical-align: middle;\n",
       "    }\n",
       "\n",
       "    .dataframe tbody tr th {\n",
       "        vertical-align: top;\n",
       "    }\n",
       "\n",
       "    .dataframe thead th {\n",
       "        text-align: right;\n",
       "    }\n",
       "</style>\n",
       "<table border=\"1\" class=\"dataframe\">\n",
       "  <thead>\n",
       "    <tr style=\"text-align: right;\">\n",
       "      <th></th>\n",
       "      <th>Date</th>\n",
       "      <th>Time</th>\n",
       "      <th>Stage m</th>\n",
       "    </tr>\n",
       "  </thead>\n",
       "  <tbody>\n",
       "    <tr>\n",
       "      <th>0</th>\n",
       "      <td>1/1/2010</td>\n",
       "      <td>24:00:00</td>\n",
       "      <td>0.2</td>\n",
       "    </tr>\n",
       "    <tr>\n",
       "      <th>1</th>\n",
       "      <td>2/1/2010</td>\n",
       "      <td>24:00:00</td>\n",
       "      <td>0.2</td>\n",
       "    </tr>\n",
       "    <tr>\n",
       "      <th>2</th>\n",
       "      <td>3/1/2010</td>\n",
       "      <td>24:00:00</td>\n",
       "      <td>0.2</td>\n",
       "    </tr>\n",
       "  </tbody>\n",
       "</table>\n",
       "</div>"
      ],
      "text/plain": [
       "       Date      Time Stage m\n",
       "0  1/1/2010  24:00:00     0.2\n",
       "1  2/1/2010  24:00:00     0.2\n",
       "2  3/1/2010  24:00:00     0.2"
      ]
     },
     "execution_count": 3,
     "metadata": {},
     "output_type": "execute_result"
    }
   ],
   "source": [
    "#load data\n",
    "water_level = pd.read_csv('JPS WL data-kbharu.csv')  \n",
    "water_level.head(3)"
   ]
  },
  {
   "cell_type": "code",
   "execution_count": 4,
   "metadata": {},
   "outputs": [
    {
     "data": {
      "text/plain": [
       "3500"
      ]
     },
     "execution_count": 4,
     "metadata": {},
     "output_type": "execute_result"
    }
   ],
   "source": [
    "len(water_level)"
   ]
  },
  {
   "cell_type": "code",
   "execution_count": 6,
   "metadata": {},
   "outputs": [
    {
     "data": {
      "text/html": [
       "<div>\n",
       "<style scoped>\n",
       "    .dataframe tbody tr th:only-of-type {\n",
       "        vertical-align: middle;\n",
       "    }\n",
       "\n",
       "    .dataframe tbody tr th {\n",
       "        vertical-align: top;\n",
       "    }\n",
       "\n",
       "    .dataframe thead th {\n",
       "        text-align: right;\n",
       "    }\n",
       "</style>\n",
       "<table border=\"1\" class=\"dataframe\">\n",
       "  <thead>\n",
       "    <tr style=\"text-align: right;\">\n",
       "      <th></th>\n",
       "      <th>Date</th>\n",
       "      <th>Stage m</th>\n",
       "    </tr>\n",
       "  </thead>\n",
       "  <tbody>\n",
       "    <tr>\n",
       "      <th>0</th>\n",
       "      <td>1/1/2010</td>\n",
       "      <td>0.2</td>\n",
       "    </tr>\n",
       "    <tr>\n",
       "      <th>1</th>\n",
       "      <td>2/1/2010</td>\n",
       "      <td>0.2</td>\n",
       "    </tr>\n",
       "    <tr>\n",
       "      <th>2</th>\n",
       "      <td>3/1/2010</td>\n",
       "      <td>0.2</td>\n",
       "    </tr>\n",
       "  </tbody>\n",
       "</table>\n",
       "</div>"
      ],
      "text/plain": [
       "       Date Stage m\n",
       "0  1/1/2010     0.2\n",
       "1  2/1/2010     0.2\n",
       "2  3/1/2010     0.2"
      ]
     },
     "execution_count": 6,
     "metadata": {},
     "output_type": "execute_result"
    }
   ],
   "source": [
    "# remove Time column\n",
    "water_level.drop(['Time'], axis=1, inplace=True)\n",
    "water_level.head(3)"
   ]
  },
  {
   "cell_type": "code",
   "execution_count": 7,
   "metadata": {},
   "outputs": [
    {
     "data": {
      "text/plain": [
       "Date       object\n",
       "Stage m    object\n",
       "dtype: object"
      ]
     },
     "execution_count": 7,
     "metadata": {},
     "output_type": "execute_result"
    }
   ],
   "source": [
    "#check for data types\n",
    "water_level.dtypes"
   ]
  },
  {
   "cell_type": "code",
   "execution_count": 8,
   "metadata": {},
   "outputs": [
    {
     "data": {
      "text/plain": [
       "array(['0.2', '0.18', '0.21', '0.22', '0.17', '0.19', '0.14', '0.16',\n",
       "       '0.15', '0.13', '0.12', '0.07', '0.02', '-0.03', '-0.08', '-0.1',\n",
       "       '-0.2', '-0.18', '-0.24', '0.33', '0.68', '0.54', '0.59', '0.55',\n",
       "       '0.42', '0.45', '0.47', '0.48', '0.39', '0.43', '0.36', '0.4',\n",
       "       '0.34', '0.38', '0.63', '0.62', '0.65', '0.6', '0.64', '0.41',\n",
       "       '0.31', '0.37', '0.35', '0.5', '0.61', '0.7', '0.58', '0.29',\n",
       "       '0.66', '0.52', '0.44', '0.46', '0.49', '0.51', '0.03', '0.73',\n",
       "       '0.32', '0.81', '-0.11', '0.25', '0.08', '0.04', '0.06', '0.05',\n",
       "       '-0.12', '-0.15', '-0.13', '-0.09', '-0.01', '-0.23', '-0.21',\n",
       "       '-0.14', '0.57', '-0.07', '0.26', '0.3', '0.24', '0', '0.72',\n",
       "       '0.28', '-0.05', '0.56', '0.11', '0.27', '0.77', '0.83', '0.71',\n",
       "       '0.69', '0.53', '0.8', '0.89', '0.97', '0.99', '0.82', '0.75',\n",
       "       '0.78', '0.93', '0.98', '0.85', '1.13', '1.07', '1.09', '1.14',\n",
       "       '1.01', '1.02', '1.75', '1.87', '1.21', '1.11', '1.17', '1.16',\n",
       "       '0.96', '1.31', '1.32', '1.18', '1.19', '0.94', '1.05', '0.92',\n",
       "       '1.12', '1.41', '1.36', '1.34', '1.22', '1.15', '1.2', '1.28',\n",
       "       '0.79', '1.1', '0.95', '1.35', '1.48', '1.7', '1.73', '1.58',\n",
       "       '1.3', '1.37', '1.96', '2.9', '2.8', '1.78', '1.81', '1.93',\n",
       "       '2.09', '2.86', '3.52', '3.54', '3', '3.45', '3.16', '1.04',\n",
       "       '0.86', '1.03', '1.26', '2.42', '1.76', '1.57', '1.29', '1.08',\n",
       "       '0.9', '0.74', '0.76', '0.88', '0.87', '0.84', '1.45', '0.67',\n",
       "       '0.23', '2.44', '1.33', '1.06', '1.25', '2.31', '3.87', '4.25',\n",
       "       '3.7', '3.08', '2.96', '2.6', '2.19', '1.71', '1.42', '1.43',\n",
       "       '2.16', '1.88', '1.53', '1.44', '1.72', '1.74', '1.64', '1.39',\n",
       "       '1.85', '1.63', '0.91', '1.49', '1.82', '2.23', '3.13', '4.35',\n",
       "       '4.62', '3.66', '2.26', '1.59', '1.79', '1.98', '1.65', '1',\n",
       "       '1.24', '1.5', '2.06', '3.47', '4.39', '2.29', '1.4', '1.27',\n",
       "       '1.77', '2.7', '2.97', '3.24', '2.88', '2.08', '1.51', '1.68',\n",
       "       '1.61', '1.9', '1.66', '3.15', '4.38', '3.84', '1.23', '2.34',\n",
       "       '0.09', '0.01', '3.58', '4.89', '2.62', '1.46', '2.43', '1.38',\n",
       "       '3.4', '3.11', '0.56#', '0.1', '2.69', '5.05', '5.13', '4', '3.09',\n",
       "       '3.71', '6.06', '6.73', '6.93', '6.91', '6.67', '5.97', '5.19',\n",
       "       '4.59', '3.3', '1.92', '2.03', '1.83', '-0.02', '-0.06', '-0.22',\n",
       "       '3.57', '3.73', '2.47', '2.53', '2.2', '3.77', '4.02', '4.01',\n",
       "       '3.21', '0.27#', '0.28#', '0.29#', '0.31#', '0.32#', '0.33#',\n",
       "       '0.34#', '0.36#', '0.37#', '0.38#', '0.39#', '0.41#', '0.42#',\n",
       "       '0.43#', '0.44#', '0.46#', '0.47#', '0.48#', '0.49#', '0.51#',\n",
       "       '0.52#', '0.53#', '0.54#', '0.57#', '0.58#', '0.59#', '0.61#',\n",
       "       '0.62#', '0.63#', '0.64#', '0.66#', '0.67#', '0.68#', '0.69#',\n",
       "       '0.71#', '0.72#', '0.73#', '0.74#', '0.76#', '0.77#', '0.78#',\n",
       "       '0.80#', '0.81#', '0.82#', '0.83#', '0.85#', '0.86#', '2.64',\n",
       "       '3.68', '2.71', '1.8', '2.22', '1.52', '1.47', '3.2', '2.39',\n",
       "       '1.55', nan], dtype=object)"
      ]
     },
     "execution_count": 8,
     "metadata": {},
     "output_type": "execute_result"
    }
   ],
   "source": [
    "# check for unique value\n",
    "water_level['Stage m'].unique()"
   ]
  },
  {
   "cell_type": "code",
   "execution_count": 9,
   "metadata": {},
   "outputs": [],
   "source": [
    "# remove special characters\n",
    "water_level['Stage m'] = water_level['Stage m'].str.replace('#','').astype(float)"
   ]
  },
  {
   "cell_type": "code",
   "execution_count": 10,
   "metadata": {},
   "outputs": [
    {
     "data": {
      "text/plain": [
       "Date        object\n",
       "Stage m    float64\n",
       "dtype: object"
      ]
     },
     "execution_count": 10,
     "metadata": {},
     "output_type": "execute_result"
    }
   ],
   "source": [
    "#convert data types for Stage variable\n",
    "water_level['Stage m'] = pd.to_numeric(water_level['Stage m'])\n",
    "water_level.dtypes"
   ]
  },
  {
   "cell_type": "code",
   "execution_count": 11,
   "metadata": {},
   "outputs": [
    {
     "data": {
      "text/plain": [
       "Date       1\n",
       "Stage m    1\n",
       "dtype: int64"
      ]
     },
     "execution_count": 11,
     "metadata": {},
     "output_type": "execute_result"
    }
   ],
   "source": [
    "# check for missing values\n",
    "water_level.isna().sum()"
   ]
  },
  {
   "cell_type": "code",
   "execution_count": 13,
   "metadata": {},
   "outputs": [
    {
     "data": {
      "text/html": [
       "<div>\n",
       "<style scoped>\n",
       "    .dataframe tbody tr th:only-of-type {\n",
       "        vertical-align: middle;\n",
       "    }\n",
       "\n",
       "    .dataframe tbody tr th {\n",
       "        vertical-align: top;\n",
       "    }\n",
       "\n",
       "    .dataframe thead th {\n",
       "        text-align: right;\n",
       "    }\n",
       "</style>\n",
       "<table border=\"1\" class=\"dataframe\">\n",
       "  <thead>\n",
       "    <tr style=\"text-align: right;\">\n",
       "      <th></th>\n",
       "      <th>Date</th>\n",
       "      <th>Stage m</th>\n",
       "    </tr>\n",
       "  </thead>\n",
       "  <tbody>\n",
       "    <tr>\n",
       "      <th>0</th>\n",
       "      <td>1/1/2010</td>\n",
       "      <td>0.20</td>\n",
       "    </tr>\n",
       "    <tr>\n",
       "      <th>1</th>\n",
       "      <td>2/1/2010</td>\n",
       "      <td>0.20</td>\n",
       "    </tr>\n",
       "    <tr>\n",
       "      <th>2</th>\n",
       "      <td>3/1/2010</td>\n",
       "      <td>0.20</td>\n",
       "    </tr>\n",
       "    <tr>\n",
       "      <th>3</th>\n",
       "      <td>4/1/2010</td>\n",
       "      <td>0.18</td>\n",
       "    </tr>\n",
       "    <tr>\n",
       "      <th>4</th>\n",
       "      <td>5/1/2010</td>\n",
       "      <td>0.21</td>\n",
       "    </tr>\n",
       "    <tr>\n",
       "      <th>...</th>\n",
       "      <td>...</td>\n",
       "      <td>...</td>\n",
       "    </tr>\n",
       "    <tr>\n",
       "      <th>3494</th>\n",
       "      <td>27/07/2019</td>\n",
       "      <td>0.21</td>\n",
       "    </tr>\n",
       "    <tr>\n",
       "      <th>3495</th>\n",
       "      <td>28/07/2019</td>\n",
       "      <td>0.20</td>\n",
       "    </tr>\n",
       "    <tr>\n",
       "      <th>3496</th>\n",
       "      <td>29/07/2019</td>\n",
       "      <td>0.11</td>\n",
       "    </tr>\n",
       "    <tr>\n",
       "      <th>3497</th>\n",
       "      <td>30/07/2019</td>\n",
       "      <td>0.13</td>\n",
       "    </tr>\n",
       "    <tr>\n",
       "      <th>3498</th>\n",
       "      <td>31/07/2019</td>\n",
       "      <td>0.15</td>\n",
       "    </tr>\n",
       "  </tbody>\n",
       "</table>\n",
       "<p>3499 rows × 2 columns</p>\n",
       "</div>"
      ],
      "text/plain": [
       "            Date  Stage m\n",
       "0       1/1/2010     0.20\n",
       "1       2/1/2010     0.20\n",
       "2       3/1/2010     0.20\n",
       "3       4/1/2010     0.18\n",
       "4       5/1/2010     0.21\n",
       "...          ...      ...\n",
       "3494  27/07/2019     0.21\n",
       "3495  28/07/2019     0.20\n",
       "3496  29/07/2019     0.11\n",
       "3497  30/07/2019     0.13\n",
       "3498  31/07/2019     0.15\n",
       "\n",
       "[3499 rows x 2 columns]"
      ]
     },
     "execution_count": 13,
     "metadata": {},
     "output_type": "execute_result"
    }
   ],
   "source": [
    "# remove last row\n",
    "water_level.drop(water_level.tail(1).index, inplace=True)\n",
    "water_level"
   ]
  },
  {
   "cell_type": "code",
   "execution_count": 14,
   "metadata": {},
   "outputs": [
    {
     "data": {
      "text/plain": [
       "Date       0\n",
       "Stage m    0\n",
       "dtype: int64"
      ]
     },
     "execution_count": 14,
     "metadata": {},
     "output_type": "execute_result"
    }
   ],
   "source": [
    "# check missing values again\n",
    "water_level.isnull().sum()"
   ]
  },
  {
   "cell_type": "code",
   "execution_count": 15,
   "metadata": {},
   "outputs": [],
   "source": [
    "# convert to datetime\n",
    "from datetime import datetime\n",
    "water_level['Date'] = pd.to_datetime(water_level['Date'])"
   ]
  },
  {
   "cell_type": "code",
   "execution_count": 16,
   "metadata": {},
   "outputs": [
    {
     "data": {
      "text/html": [
       "<div>\n",
       "<style scoped>\n",
       "    .dataframe tbody tr th:only-of-type {\n",
       "        vertical-align: middle;\n",
       "    }\n",
       "\n",
       "    .dataframe tbody tr th {\n",
       "        vertical-align: top;\n",
       "    }\n",
       "\n",
       "    .dataframe thead th {\n",
       "        text-align: right;\n",
       "    }\n",
       "</style>\n",
       "<table border=\"1\" class=\"dataframe\">\n",
       "  <thead>\n",
       "    <tr style=\"text-align: right;\">\n",
       "      <th></th>\n",
       "      <th>Stage m</th>\n",
       "    </tr>\n",
       "    <tr>\n",
       "      <th>Date</th>\n",
       "      <th></th>\n",
       "    </tr>\n",
       "  </thead>\n",
       "  <tbody>\n",
       "    <tr>\n",
       "      <th>2010-01-01</th>\n",
       "      <td>0.20</td>\n",
       "    </tr>\n",
       "    <tr>\n",
       "      <th>2010-02-01</th>\n",
       "      <td>0.20</td>\n",
       "    </tr>\n",
       "    <tr>\n",
       "      <th>2010-03-01</th>\n",
       "      <td>0.20</td>\n",
       "    </tr>\n",
       "    <tr>\n",
       "      <th>2010-04-01</th>\n",
       "      <td>0.18</td>\n",
       "    </tr>\n",
       "    <tr>\n",
       "      <th>2010-05-01</th>\n",
       "      <td>0.21</td>\n",
       "    </tr>\n",
       "    <tr>\n",
       "      <th>...</th>\n",
       "      <td>...</td>\n",
       "    </tr>\n",
       "    <tr>\n",
       "      <th>2019-07-27</th>\n",
       "      <td>0.21</td>\n",
       "    </tr>\n",
       "    <tr>\n",
       "      <th>2019-07-28</th>\n",
       "      <td>0.20</td>\n",
       "    </tr>\n",
       "    <tr>\n",
       "      <th>2019-07-29</th>\n",
       "      <td>0.11</td>\n",
       "    </tr>\n",
       "    <tr>\n",
       "      <th>2019-07-30</th>\n",
       "      <td>0.13</td>\n",
       "    </tr>\n",
       "    <tr>\n",
       "      <th>2019-07-31</th>\n",
       "      <td>0.15</td>\n",
       "    </tr>\n",
       "  </tbody>\n",
       "</table>\n",
       "<p>3499 rows × 1 columns</p>\n",
       "</div>"
      ],
      "text/plain": [
       "            Stage m\n",
       "Date               \n",
       "2010-01-01     0.20\n",
       "2010-02-01     0.20\n",
       "2010-03-01     0.20\n",
       "2010-04-01     0.18\n",
       "2010-05-01     0.21\n",
       "...             ...\n",
       "2019-07-27     0.21\n",
       "2019-07-28     0.20\n",
       "2019-07-29     0.11\n",
       "2019-07-30     0.13\n",
       "2019-07-31     0.15\n",
       "\n",
       "[3499 rows x 1 columns]"
      ]
     },
     "execution_count": 16,
     "metadata": {},
     "output_type": "execute_result"
    }
   ],
   "source": [
    "# set date as index\n",
    "water_level.set_index('Date', inplace=True)\n",
    "water_level"
   ]
  },
  {
   "cell_type": "code",
   "execution_count": 17,
   "metadata": {},
   "outputs": [
    {
     "data": {
      "text/html": [
       "<div>\n",
       "<style scoped>\n",
       "    .dataframe tbody tr th:only-of-type {\n",
       "        vertical-align: middle;\n",
       "    }\n",
       "\n",
       "    .dataframe tbody tr th {\n",
       "        vertical-align: top;\n",
       "    }\n",
       "\n",
       "    .dataframe thead th {\n",
       "        text-align: right;\n",
       "    }\n",
       "</style>\n",
       "<table border=\"1\" class=\"dataframe\">\n",
       "  <thead>\n",
       "    <tr style=\"text-align: right;\">\n",
       "      <th></th>\n",
       "      <th>Stage m</th>\n",
       "    </tr>\n",
       "  </thead>\n",
       "  <tbody>\n",
       "    <tr>\n",
       "      <th>count</th>\n",
       "      <td>3499.000000</td>\n",
       "    </tr>\n",
       "    <tr>\n",
       "      <th>mean</th>\n",
       "      <td>0.689937</td>\n",
       "    </tr>\n",
       "    <tr>\n",
       "      <th>std</th>\n",
       "      <td>0.593307</td>\n",
       "    </tr>\n",
       "    <tr>\n",
       "      <th>min</th>\n",
       "      <td>-0.240000</td>\n",
       "    </tr>\n",
       "    <tr>\n",
       "      <th>25%</th>\n",
       "      <td>0.380000</td>\n",
       "    </tr>\n",
       "    <tr>\n",
       "      <th>50%</th>\n",
       "      <td>0.610000</td>\n",
       "    </tr>\n",
       "    <tr>\n",
       "      <th>75%</th>\n",
       "      <td>0.840000</td>\n",
       "    </tr>\n",
       "    <tr>\n",
       "      <th>max</th>\n",
       "      <td>6.930000</td>\n",
       "    </tr>\n",
       "  </tbody>\n",
       "</table>\n",
       "</div>"
      ],
      "text/plain": [
       "           Stage m\n",
       "count  3499.000000\n",
       "mean      0.689937\n",
       "std       0.593307\n",
       "min      -0.240000\n",
       "25%       0.380000\n",
       "50%       0.610000\n",
       "75%       0.840000\n",
       "max       6.930000"
      ]
     },
     "execution_count": 17,
     "metadata": {},
     "output_type": "execute_result"
    }
   ],
   "source": [
    "water_level.describe()"
   ]
  },
  {
   "cell_type": "code",
   "execution_count": 18,
   "metadata": {},
   "outputs": [
    {
     "data": {
      "text/plain": [
       "Stage m    0.61\n",
       "dtype: float64"
      ]
     },
     "execution_count": 18,
     "metadata": {},
     "output_type": "execute_result"
    }
   ],
   "source": [
    "water_level.median()"
   ]
  },
  {
   "cell_type": "code",
   "execution_count": 19,
   "metadata": {},
   "outputs": [],
   "source": [
    "#saving cleaned data\n",
    "water_level.to_csv('cleaned-JPS WL data-kbharu.csv')"
   ]
  },
  {
   "cell_type": "markdown",
   "metadata": {},
   "source": [
    "## Data visualization"
   ]
  },
  {
   "cell_type": "code",
   "execution_count": 20,
   "metadata": {},
   "outputs": [
    {
     "data": {
      "image/png": "[encoded data removed]",
      "text/plain": [
       "<Figure size 432x288 with 1 Axes>"
      ]
     },
     "metadata": {
      "needs_background": "light"
     },
     "output_type": "display_data"
    }
   ],
   "source": [
    "#plot the time series of water level \n",
    "plt.style.use('seaborn-deep')\n",
    "ax = water_level.plot(color='coral', grid=True, linewidth=0.5)\n",
    "ax.set_xlabel('Year')\n",
    "ax.set_ylabel('Level of Water')\n",
    "ax.set_title('At KB')\n",
    "plt.show()"
   ]
  },
  {
   "cell_type": "code",
   "execution_count": 21,
   "metadata": {},
   "outputs": [
    {
     "data": {
      "text/plain": [
       "<AxesSubplot:ylabel='Frequency'>"
      ]
     },
     "execution_count": 21,
     "metadata": {},
     "output_type": "execute_result"
    },
    {
     "data": {
      "image/png": "[encoded data removed]",
      "text/plain": [
       "<Figure size 432x288 with 1 Axes>"
      ]
     },
     "metadata": {
      "needs_background": "light"
     },
     "output_type": "display_data"
    }
   ],
   "source": [
    "#plot the histogram\n",
    "water_level.plot(kind='hist', bins=100, color='green', grid=True)"
   ]
  },
  {
   "cell_type": "code",
   "execution_count": 22,
   "metadata": {},
   "outputs": [
    {
     "data": {
      "text/plain": [
       "<AxesSubplot:ylabel='Density'>"
      ]
     },
     "execution_count": 22,
     "metadata": {},
     "output_type": "execute_result"
    },
    {
     "data": {
      "image/png": "[encoded data removed]",
      "text/plain": [
       "<Figure size 432x288 with 1 Axes>"
      ]
     },
     "metadata": {
      "needs_background": "light"
     },
     "output_type": "display_data"
    }
   ],
   "source": [
    "# kernel density plot\n",
    "water_level.plot(kind='density', color=\"red\", grid=True, linewidth=3, fontsize=10)"
   ]
  },
  {
   "cell_type": "code",
   "execution_count": 23,
   "metadata": {},
   "outputs": [
    {
     "data": {
      "text/plain": [
       "<Figure size 432x216 with 0 Axes>"
      ]
     },
     "metadata": {},
     "output_type": "display_data"
    },
    {
     "data": {
      "image/png": "[encoded data removed]",
      "text/plain": [
       "<Figure size 432x432 with 3 Axes>"
      ]
     },
     "metadata": {
      "needs_background": "light"
     },
     "output_type": "display_data"
    }
   ],
   "source": [
    "#scatter plot with marginal histograms\n",
    "import seaborn as sns\n",
    "\n",
    "plt.figure(figsize=(6, 3))\n",
    "sns.jointplot(\n",
    "    x=\"Date\", y=\"Stage m\",\n",
    "    edgecolor=\"white\",\n",
    "    data=water_level\n",
    ")\n",
    "plt.xlabel(\"Date\")\n",
    "plt.ylabel(\"Stage m\");"
   ]
  },
  {
   "cell_type": "code",
   "execution_count": 24,
   "metadata": {},
   "outputs": [
    {
     "data": {
      "image/png": "[encoded data removed]",
      "text/plain": [
       "<Figure size 432x288 with 1 Axes>"
      ]
     },
     "metadata": {
      "needs_background": "light"
     },
     "output_type": "display_data"
    }
   ],
   "source": [
    "# lag plot\n",
    "from pandas.plotting import lag_plot\n",
    "\n",
    "lag_plot(water_level)\n",
    "plt.show()"
   ]
  },
  {
   "cell_type": "markdown",
   "metadata": {},
   "source": [
    "The plot above shows the water level data on the y(t) against its previous time step, prior month, the the y(t+1). It is assume that the relationship is positive.\n"
   ]
  },
  {
   "cell_type": "code",
   "execution_count": 25,
   "metadata": {},
   "outputs": [
    {
     "name": "stdout",
     "output_type": "stream",
     "text": [
      "The autocorrelation is: 0.93\n"
     ]
    }
   ],
   "source": [
    "# Autocorrelation\n",
    "autocorrelation = water_level['Stage m'].autocorr()\n",
    "print(\"The autocorrelation is: %4.2f\" %(autocorrelation))"
   ]
  },
  {
   "cell_type": "markdown",
   "metadata": {},
   "source": [
    "The correlation between the water level data and its lag variable by a time step shows a high correlation at 0.93. This indicates that there is a substantial, positive relationship."
   ]
  },
  {
   "cell_type": "code",
   "execution_count": 26,
   "metadata": {},
   "outputs": [
    {
     "data": {
      "image/png": "[encoded data removed]",
      "text/plain": [
       "<Figure size 432x288 with 1 Axes>"
      ]
     },
     "metadata": {
      "needs_background": "light"
     },
     "output_type": "display_data"
    }
   ],
   "source": [
    "# Plot ACF to visualize the autocorrelation\n",
    "from statsmodels.graphics.tsaplots import plot_acf\n",
    "plot_acf(water_level['Stage m'], lags=12);"
   ]
  },
  {
   "cell_type": "markdown",
   "metadata": {},
   "source": [
    "The partial autocorrelation function (PACF) gives the partial correlation of a time series with its own lagged values.\n",
    "\n",
    "Value of partial autocorrelation that are close to 0 indicates that there is no correlation between observations values and lagged values. On the other hand, value close to 1 or -1 shows that correlations are in strong positive or negative between the lagged observations of the time series."
   ]
  }
 ],
 "metadata": {
  "kernelspec": {
   "display_name": "Python 3",
   "language": "python",
   "name": "python3"
  },
  "language_info": {
   "codemirror_mode": {
    "name": "ipython",
    "version": 3
   },
   "file_extension": ".py",
   "mimetype": "text/x-python",
   "name": "python",
   "nbconvert_exporter": "python",
   "pygments_lexer": "ipython3",
   "version": "3.8.5"
  }
 },
 "nbformat": 4,
 "nbformat_minor": 4
}
