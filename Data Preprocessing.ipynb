{
 "cells": [
  {
   "cell_type": "markdown",
   "metadata": {},
   "source": [
    "## Data Pre-processing for Kuala Krai dataset\n",
    "\n",
    "I inspect the dataframe for:\n",
    "1. missing values\n",
    "2. convert data types\n",
    "3. remove unnecessary column\n",
    "4. identify unique value\n",
    "5. remove characters\n",
    "6. provide descriptive/summary statistics\n",
    "7. visualize data\n",
    "8. measure correlation"
   ]
  },
  {
   "cell_type": "code",
   "execution_count": 1,
   "metadata": {},
   "outputs": [],
   "source": [
    "import pandas as pd\n",
    "import numpy as np\n",
    "import matplotlib.pyplot as plt\n",
    "\n",
    "import warnings\n",
    "warnings.filterwarnings('ignore')"
   ]
  },
  {
   "cell_type": "code",
   "execution_count": 2,
   "metadata": {},
   "outputs": [
    {
     "data": {
      "text/html": [
       "<div>\n",
       "<style scoped>\n",
       "    .dataframe tbody tr th:only-of-type {\n",
       "        vertical-align: middle;\n",
       "    }\n",
       "\n",
       "    .dataframe tbody tr th {\n",
       "        vertical-align: top;\n",
       "    }\n",
       "\n",
       "    .dataframe thead th {\n",
       "        text-align: right;\n",
       "    }\n",
       "</style>\n",
       "<table border=\"1\" class=\"dataframe\">\n",
       "  <thead>\n",
       "    <tr style=\"text-align: right;\">\n",
       "      <th></th>\n",
       "      <th>Date</th>\n",
       "      <th>Time</th>\n",
       "      <th>Stage m</th>\n",
       "    </tr>\n",
       "  </thead>\n",
       "  <tbody>\n",
       "    <tr>\n",
       "      <th>0</th>\n",
       "      <td>1/1/2010</td>\n",
       "      <td>24:00:00</td>\n",
       "      <td>17.06</td>\n",
       "    </tr>\n",
       "    <tr>\n",
       "      <th>1</th>\n",
       "      <td>2/1/2010</td>\n",
       "      <td>24:00:00</td>\n",
       "      <td>17</td>\n",
       "    </tr>\n",
       "    <tr>\n",
       "      <th>2</th>\n",
       "      <td>3/1/2010</td>\n",
       "      <td>24:00:00</td>\n",
       "      <td>17.31</td>\n",
       "    </tr>\n",
       "  </tbody>\n",
       "</table>\n",
       "</div>"
      ],
      "text/plain": [
       "       Date      Time Stage m\n",
       "0  1/1/2010  24:00:00   17.06\n",
       "1  2/1/2010  24:00:00      17\n",
       "2  3/1/2010  24:00:00   17.31"
      ]
     },
     "execution_count": 2,
     "metadata": {},
     "output_type": "execute_result"
    }
   ],
   "source": [
    "#load data\n",
    "water_level = pd.read_csv('JPS WL data-kkrai.csv')  \n",
    "water_level.head(3)"
   ]
  },
  {
   "cell_type": "code",
   "execution_count": 3,
   "metadata": {},
   "outputs": [
    {
     "data": {
      "text/plain": [
       "3500"
      ]
     },
     "execution_count": 3,
     "metadata": {},
     "output_type": "execute_result"
    }
   ],
   "source": [
    "len(water_level)"
   ]
  },
  {
   "cell_type": "code",
   "execution_count": 4,
   "metadata": {},
   "outputs": [
    {
     "data": {
      "text/html": [
       "<div>\n",
       "<style scoped>\n",
       "    .dataframe tbody tr th:only-of-type {\n",
       "        vertical-align: middle;\n",
       "    }\n",
       "\n",
       "    .dataframe tbody tr th {\n",
       "        vertical-align: top;\n",
       "    }\n",
       "\n",
       "    .dataframe thead th {\n",
       "        text-align: right;\n",
       "    }\n",
       "</style>\n",
       "<table border=\"1\" class=\"dataframe\">\n",
       "  <thead>\n",
       "    <tr style=\"text-align: right;\">\n",
       "      <th></th>\n",
       "      <th>Date</th>\n",
       "      <th>Stage m</th>\n",
       "    </tr>\n",
       "  </thead>\n",
       "  <tbody>\n",
       "    <tr>\n",
       "      <th>0</th>\n",
       "      <td>1/1/2010</td>\n",
       "      <td>17.06</td>\n",
       "    </tr>\n",
       "    <tr>\n",
       "      <th>1</th>\n",
       "      <td>2/1/2010</td>\n",
       "      <td>17</td>\n",
       "    </tr>\n",
       "    <tr>\n",
       "      <th>2</th>\n",
       "      <td>3/1/2010</td>\n",
       "      <td>17.31</td>\n",
       "    </tr>\n",
       "  </tbody>\n",
       "</table>\n",
       "</div>"
      ],
      "text/plain": [
       "       Date Stage m\n",
       "0  1/1/2010   17.06\n",
       "1  2/1/2010      17\n",
       "2  3/1/2010   17.31"
      ]
     },
     "execution_count": 4,
     "metadata": {},
     "output_type": "execute_result"
    }
   ],
   "source": [
    "# remove Time column\n",
    "water_level.drop(['Time'], axis=1, inplace=True)\n",
    "water_level.head(3)"
   ]
  },
  {
   "cell_type": "code",
   "execution_count": 5,
   "metadata": {},
   "outputs": [
    {
     "data": {
      "text/plain": [
       "Date       object\n",
       "Stage m    object\n",
       "dtype: object"
      ]
     },
     "execution_count": 5,
     "metadata": {},
     "output_type": "execute_result"
    }
   ],
   "source": [
    "#check for data types\n",
    "water_level.dtypes"
   ]
  },
  {
   "cell_type": "code",
   "execution_count": 6,
   "metadata": {},
   "outputs": [
    {
     "data": {
      "text/plain": [
       "array(['17.06', '17', '17.31', '18.6', '18.15', '17.4', '17.46', '17.71',\n",
       "       '17.35', '17.01', '16.75', '16.65', '16.54', '16.52', '16.44',\n",
       "       '16.39', '16.31', '16.25', '16.2', '16.16', '16.58', '17.2',\n",
       "       '16.62', '16.46', '17.03', '17.1', '16.49', '16.17', '16.07',\n",
       "       '16.01', '15.99', '15.96', '15.98', '15.87', '15.82', '15.9',\n",
       "       '15.83', '15.78', '15.76', '15.71', '15.73', '15.67', '15.62',\n",
       "       '15.69', '15.85', '15.68', '15.79', '15.86', '15.64', '15.53',\n",
       "       '15.49', '15.46', '15.42', '15.4', '15.36', '15.3', '15.31',\n",
       "       '15.29', '15.27', '15.32', '15.41', '15.43', '15.37', '15.35',\n",
       "       '15.38', '15.39', '15.56', '15.72', '15.59', '15.45', '15.48',\n",
       "       '15.61', '15.33', '15.24', '15.21', '15.18', '15.19', '15.22',\n",
       "       '15.95', '15.47', '15.65', '15.28', '15.15', '15.2', '15.17',\n",
       "       '15.8', '15.74', '15.91', '15.5', '15.57', '15.55', '15.34',\n",
       "       '16.05', '16.32', '16.06', '16.82', '17.13', '16.76', '17.63',\n",
       "       '18.1', '17.36', '16.29', '16.03', '15.84', '16', '16.11', '16.3',\n",
       "       '16.6', '17.09', '16.38', '16.27', '16.35', '16.47', '16.22',\n",
       "       '16.59', '16.23', '16.15', '16.08', '17.16', '16.5', '16.45',\n",
       "       '15.89', '16.12', '16.95', '16.79', '15.97', '15.88', '16.04',\n",
       "       '17.17', '16.69', '16.63', '17.07', '17.29', '16.56', '16.51',\n",
       "       '16.98', '17.47', '17.92', '17.67', '17.74', '16.85', '16.68',\n",
       "       '16.41', '16.74', '16.86', '16.92', '16.91', '16.81', '16.97',\n",
       "       '17.14', '16.37', '15.93', '17.77', '18.48', '19.19', '19.9',\n",
       "       '20.47', '18.62', '14.19', '13.99', '17.65', '16.78', '16.87',\n",
       "       '17.3', '17.94', '17.78', '17.59', '17.48', '17.27', '17.25',\n",
       "       '18.27', '19.18', '18.75', '17.76', '17.95', '17.87', '17.39',\n",
       "       '17.24', '17.26', '17.28', '17.23', '16.88', '17.12', '17.38',\n",
       "       '17.21', '16.94', '16.93', '16.83', '16.42', '16.36', '17.52',\n",
       "       '18.03', '17.91', '17.68', '18.34', '21.22', '21.66', '19.71',\n",
       "       '18.7', '19.66', '19.53', '20.59', '21.04', '20.26', '19.23',\n",
       "       '18.49', '18.17', '17.86', '17.5', '17.02', '16.77', '16.48',\n",
       "       '16.57', '18.87', '21.27', '21.61', '20.52', '20.13', '19.43',\n",
       "       '18.64', '18.07', '17.7', '16.8', '16.7', '16.67', '16.61',\n",
       "       '16.18', '16.34', '16.13', '16.02', '16.99', '16.96', '17.11',\n",
       "       '17.15', '17.32', '17.6', '16.73', '18.12', '19.39', '17.57',\n",
       "       '18.28', '17.45', '16.89', '16.9', '16.33', '16.72', '16.21',\n",
       "       '16.19', '16.14', '16.43', '16.53', '16.71', '17.49', '17.42',\n",
       "       '17.08', '17.37', '17.34', '16.09', '16.84', '16.1', '15.94',\n",
       "       '16.66', '17.83', '16.55', '16.64', '17.64', '17.19', '18.18',\n",
       "       '17.97', '17.05', '17.33', '21.54', '24.16', '23.35', '21.8',\n",
       "       '21.52', '21.31', '20.35', '19.86', '19.08', '18.42', '18',\n",
       "       '17.88', '17.53', '17.73', '19.03', '21.14', '20.03', '19.28',\n",
       "       '18.56', '19.14', '19.98', '20.07', '19.29', '18.63', '18.09',\n",
       "       '18.04', '18.53', '18.98', '17.93', '19.44', '23.19', '25.47',\n",
       "       '23.99', '20.86', '18.99', '18.89', '19.3', '19.51', '19.81',\n",
       "       '18.92', '18.31', '17.66', '17.41', '17.69#', '17.18', '17.55',\n",
       "       '17.22', '16.28', '16.24', '16.4', '17.85', '17.72', '17.04',\n",
       "       '17.61', '17.75', '17.54', '17.69', '17.8', '15.77', '15.6',\n",
       "       '15.58', '15.54', '15.92', '15.7', '15.52', '15.44', '15.66',\n",
       "       '15.81', '20.43', '23.9', '23.68', '20.78', '19.22', '21.77',\n",
       "       '20.82', '20.74', '21.4', '19.75', '18.4', '17.84', '16.26',\n",
       "       '18.26', '20.27', '22.81', '23.73', '20.87', '18.78', '18.22',\n",
       "       '15.51', '15.75', '18.39', '18.11', '19.04', '19.36', '17.43',\n",
       "       '18.13', '18.02', '17.82', '20.04', '19.85', '22.08', '24.95',\n",
       "       '25', '22.71', '19.84', '19.57', '20.19', '20.93', '19.2', '18.08',\n",
       "       '17.89', '18.06', '18.79', '21.26', '22.94', '20.37', '18.5',\n",
       "       '17.81', '17.51', '15.23', '15.25', '15.63', '18.69', '18.3',\n",
       "       '19.63', '26.25', '25.14', '22.07', '21.91', '29.24', '32.18',\n",
       "       '33.93', '33.33', '31.68', '29.31', '27.14', '26.51', '25.08',\n",
       "       '22.18', '20', '19.4', '19.09', '18.86', '18.91', '20.33', '21.85',\n",
       "       '20.17', '19.41', '18.8', '18.45', '18.24', '18.05', '17.79',\n",
       "       '17.44', '18.01', '17.56', '23.03', '21.03', '19.68', '18.67',\n",
       "       '17.58', '19.31', '19.32', '15.16', '15.26', '17.9', '18.51',\n",
       "       '19.21', '17.71#', '18.46', '20.97', '24.56', '22.95', '23.23',\n",
       "       '22.11', '19.62', '18.76', '18.54', '18.16', '19.1', '22.45',\n",
       "       '21.92', '22.25', '24.53', '25.57', '25.5', '25.31', '21.94',\n",
       "       '18.37', '18.23', '17.96', '18.58', '18.25', '17.62', '19.07',\n",
       "       '18.44', '18.29', '18.57', '18.14', '18.61', '19.02', '18.85',\n",
       "       '18.43', '18.32', '20.2', '23.54', '20.73', '20.68', '21.67',\n",
       "       '20.34', '19.79', '20.01', '20.89', '20.66', '19.96', '19.45',\n",
       "       '18.68', '18.2', '17.98', '20.91', '24.08', '23.94', '22.8',\n",
       "       '21.21', '19.67', '18.95', '18.9', '18.38', '20.44', '18.41',\n",
       "       '19.38', '20.18', '18.97', '19.01', '18.84', '18.19', '10.17',\n",
       "       '1.68', '1.69', '8.45', '15.1', '15.08', '15.07', '15.06', '15.04',\n",
       "       '15.03', '15.02', '15', '15.05', '15.09', '14.95', '14.93',\n",
       "       '14.91', '14.9', '14.92', '14.94', '14.96', '14.99', '14.97',\n",
       "       '15.13', '14.98', '14.88', '14.89', '14.87', '14.83', '14.8',\n",
       "       '14.79', '15.11', '15.01', '14.84', nan], dtype=object)"
      ]
     },
     "execution_count": 6,
     "metadata": {},
     "output_type": "execute_result"
    }
   ],
   "source": [
    "# check for unique value\n",
    "water_level['Stage m'].unique()"
   ]
  },
  {
   "cell_type": "code",
   "execution_count": 7,
   "metadata": {},
   "outputs": [],
   "source": [
    "# remove special characters\n",
    "water_level['Stage m'] = water_level['Stage m'].str.replace('#','').astype(float)"
   ]
  },
  {
   "cell_type": "code",
   "execution_count": 8,
   "metadata": {},
   "outputs": [
    {
     "data": {
      "text/plain": [
       "Date        object\n",
       "Stage m    float64\n",
       "dtype: object"
      ]
     },
     "execution_count": 8,
     "metadata": {},
     "output_type": "execute_result"
    }
   ],
   "source": [
    "#convert data types for Stage variable\n",
    "water_level['Stage m'] = pd.to_numeric(water_level['Stage m'])\n",
    "water_level.dtypes"
   ]
  },
  {
   "cell_type": "code",
   "execution_count": 9,
   "metadata": {},
   "outputs": [
    {
     "data": {
      "text/plain": [
       "Date       1\n",
       "Stage m    1\n",
       "dtype: int64"
      ]
     },
     "execution_count": 9,
     "metadata": {},
     "output_type": "execute_result"
    }
   ],
   "source": [
    "# check for missing values\n",
    "water_level.isna().sum()"
   ]
  },
  {
   "cell_type": "code",
   "execution_count": 10,
   "metadata": {},
   "outputs": [
    {
     "data": {
      "text/html": [
       "<div>\n",
       "<style scoped>\n",
       "    .dataframe tbody tr th:only-of-type {\n",
       "        vertical-align: middle;\n",
       "    }\n",
       "\n",
       "    .dataframe tbody tr th {\n",
       "        vertical-align: top;\n",
       "    }\n",
       "\n",
       "    .dataframe thead th {\n",
       "        text-align: right;\n",
       "    }\n",
       "</style>\n",
       "<table border=\"1\" class=\"dataframe\">\n",
       "  <thead>\n",
       "    <tr style=\"text-align: right;\">\n",
       "      <th></th>\n",
       "      <th>Date</th>\n",
       "      <th>Stage m</th>\n",
       "    </tr>\n",
       "  </thead>\n",
       "  <tbody>\n",
       "    <tr>\n",
       "      <th>0</th>\n",
       "      <td>1/1/2010</td>\n",
       "      <td>17.06</td>\n",
       "    </tr>\n",
       "    <tr>\n",
       "      <th>1</th>\n",
       "      <td>2/1/2010</td>\n",
       "      <td>17.00</td>\n",
       "    </tr>\n",
       "    <tr>\n",
       "      <th>2</th>\n",
       "      <td>3/1/2010</td>\n",
       "      <td>17.31</td>\n",
       "    </tr>\n",
       "    <tr>\n",
       "      <th>3</th>\n",
       "      <td>4/1/2010</td>\n",
       "      <td>18.60</td>\n",
       "    </tr>\n",
       "    <tr>\n",
       "      <th>4</th>\n",
       "      <td>5/1/2010</td>\n",
       "      <td>18.15</td>\n",
       "    </tr>\n",
       "    <tr>\n",
       "      <th>...</th>\n",
       "      <td>...</td>\n",
       "      <td>...</td>\n",
       "    </tr>\n",
       "    <tr>\n",
       "      <th>3494</th>\n",
       "      <td>27/07/2019</td>\n",
       "      <td>15.56</td>\n",
       "    </tr>\n",
       "    <tr>\n",
       "      <th>3495</th>\n",
       "      <td>28/07/2019</td>\n",
       "      <td>15.86</td>\n",
       "    </tr>\n",
       "    <tr>\n",
       "      <th>3496</th>\n",
       "      <td>29/07/2019</td>\n",
       "      <td>15.97</td>\n",
       "    </tr>\n",
       "    <tr>\n",
       "      <th>3497</th>\n",
       "      <td>30/07/2019</td>\n",
       "      <td>15.72</td>\n",
       "    </tr>\n",
       "    <tr>\n",
       "      <th>3498</th>\n",
       "      <td>31/07/2019</td>\n",
       "      <td>15.47</td>\n",
       "    </tr>\n",
       "  </tbody>\n",
       "</table>\n",
       "<p>3499 rows × 2 columns</p>\n",
       "</div>"
      ],
      "text/plain": [
       "            Date  Stage m\n",
       "0       1/1/2010    17.06\n",
       "1       2/1/2010    17.00\n",
       "2       3/1/2010    17.31\n",
       "3       4/1/2010    18.60\n",
       "4       5/1/2010    18.15\n",
       "...          ...      ...\n",
       "3494  27/07/2019    15.56\n",
       "3495  28/07/2019    15.86\n",
       "3496  29/07/2019    15.97\n",
       "3497  30/07/2019    15.72\n",
       "3498  31/07/2019    15.47\n",
       "\n",
       "[3499 rows x 2 columns]"
      ]
     },
     "execution_count": 10,
     "metadata": {},
     "output_type": "execute_result"
    }
   ],
   "source": [
    "# remove last row\n",
    "water_level.drop(water_level.tail(1).index, inplace=True)\n",
    "water_level"
   ]
  },
  {
   "cell_type": "code",
   "execution_count": 11,
   "metadata": {},
   "outputs": [
    {
     "data": {
      "text/plain": [
       "Date       0\n",
       "Stage m    0\n",
       "dtype: int64"
      ]
     },
     "execution_count": 11,
     "metadata": {},
     "output_type": "execute_result"
    }
   ],
   "source": [
    "# check missing values again\n",
    "water_level.isnull().sum()"
   ]
  },
  {
   "cell_type": "code",
   "execution_count": 12,
   "metadata": {},
   "outputs": [],
   "source": [
    "# convert to datetime\n",
    "from datetime import datetime\n",
    "water_level['Date'] = pd.to_datetime(water_level['Date'])"
   ]
  },
  {
   "cell_type": "code",
   "execution_count": 13,
   "metadata": {},
   "outputs": [
    {
     "data": {
      "text/html": [
       "<div>\n",
       "<style scoped>\n",
       "    .dataframe tbody tr th:only-of-type {\n",
       "        vertical-align: middle;\n",
       "    }\n",
       "\n",
       "    .dataframe tbody tr th {\n",
       "        vertical-align: top;\n",
       "    }\n",
       "\n",
       "    .dataframe thead th {\n",
       "        text-align: right;\n",
       "    }\n",
       "</style>\n",
       "<table border=\"1\" class=\"dataframe\">\n",
       "  <thead>\n",
       "    <tr style=\"text-align: right;\">\n",
       "      <th></th>\n",
       "      <th>Stage m</th>\n",
       "    </tr>\n",
       "    <tr>\n",
       "      <th>Date</th>\n",
       "      <th></th>\n",
       "    </tr>\n",
       "  </thead>\n",
       "  <tbody>\n",
       "    <tr>\n",
       "      <th>2010-01-01</th>\n",
       "      <td>17.06</td>\n",
       "    </tr>\n",
       "    <tr>\n",
       "      <th>2010-02-01</th>\n",
       "      <td>17.00</td>\n",
       "    </tr>\n",
       "    <tr>\n",
       "      <th>2010-03-01</th>\n",
       "      <td>17.31</td>\n",
       "    </tr>\n",
       "    <tr>\n",
       "      <th>2010-04-01</th>\n",
       "      <td>18.60</td>\n",
       "    </tr>\n",
       "    <tr>\n",
       "      <th>2010-05-01</th>\n",
       "      <td>18.15</td>\n",
       "    </tr>\n",
       "    <tr>\n",
       "      <th>...</th>\n",
       "      <td>...</td>\n",
       "    </tr>\n",
       "    <tr>\n",
       "      <th>2019-07-27</th>\n",
       "      <td>15.56</td>\n",
       "    </tr>\n",
       "    <tr>\n",
       "      <th>2019-07-28</th>\n",
       "      <td>15.86</td>\n",
       "    </tr>\n",
       "    <tr>\n",
       "      <th>2019-07-29</th>\n",
       "      <td>15.97</td>\n",
       "    </tr>\n",
       "    <tr>\n",
       "      <th>2019-07-30</th>\n",
       "      <td>15.72</td>\n",
       "    </tr>\n",
       "    <tr>\n",
       "      <th>2019-07-31</th>\n",
       "      <td>15.47</td>\n",
       "    </tr>\n",
       "  </tbody>\n",
       "</table>\n",
       "<p>3499 rows × 1 columns</p>\n",
       "</div>"
      ],
      "text/plain": [
       "            Stage m\n",
       "Date               \n",
       "2010-01-01    17.06\n",
       "2010-02-01    17.00\n",
       "2010-03-01    17.31\n",
       "2010-04-01    18.60\n",
       "2010-05-01    18.15\n",
       "...             ...\n",
       "2019-07-27    15.56\n",
       "2019-07-28    15.86\n",
       "2019-07-29    15.97\n",
       "2019-07-30    15.72\n",
       "2019-07-31    15.47\n",
       "\n",
       "[3499 rows x 1 columns]"
      ]
     },
     "execution_count": 13,
     "metadata": {},
     "output_type": "execute_result"
    }
   ],
   "source": [
    "# set date as index\n",
    "water_level.set_index('Date', inplace=True)\n",
    "water_level"
   ]
  },
  {
   "cell_type": "code",
   "execution_count": 14,
   "metadata": {},
   "outputs": [
    {
     "data": {
      "text/html": [
       "<div>\n",
       "<style scoped>\n",
       "    .dataframe tbody tr th:only-of-type {\n",
       "        vertical-align: middle;\n",
       "    }\n",
       "\n",
       "    .dataframe tbody tr th {\n",
       "        vertical-align: top;\n",
       "    }\n",
       "\n",
       "    .dataframe thead th {\n",
       "        text-align: right;\n",
       "    }\n",
       "</style>\n",
       "<table border=\"1\" class=\"dataframe\">\n",
       "  <thead>\n",
       "    <tr style=\"text-align: right;\">\n",
       "      <th></th>\n",
       "      <th>Stage m</th>\n",
       "    </tr>\n",
       "  </thead>\n",
       "  <tbody>\n",
       "    <tr>\n",
       "      <th>count</th>\n",
       "      <td>3499.000000</td>\n",
       "    </tr>\n",
       "    <tr>\n",
       "      <th>mean</th>\n",
       "      <td>16.638231</td>\n",
       "    </tr>\n",
       "    <tr>\n",
       "      <th>std</th>\n",
       "      <td>1.582909</td>\n",
       "    </tr>\n",
       "    <tr>\n",
       "      <th>min</th>\n",
       "      <td>1.680000</td>\n",
       "    </tr>\n",
       "    <tr>\n",
       "      <th>25%</th>\n",
       "      <td>15.830000</td>\n",
       "    </tr>\n",
       "    <tr>\n",
       "      <th>50%</th>\n",
       "      <td>16.380000</td>\n",
       "    </tr>\n",
       "    <tr>\n",
       "      <th>75%</th>\n",
       "      <td>17.120000</td>\n",
       "    </tr>\n",
       "    <tr>\n",
       "      <th>max</th>\n",
       "      <td>33.930000</td>\n",
       "    </tr>\n",
       "  </tbody>\n",
       "</table>\n",
       "</div>"
      ],
      "text/plain": [
       "           Stage m\n",
       "count  3499.000000\n",
       "mean     16.638231\n",
       "std       1.582909\n",
       "min       1.680000\n",
       "25%      15.830000\n",
       "50%      16.380000\n",
       "75%      17.120000\n",
       "max      33.930000"
      ]
     },
     "execution_count": 14,
     "metadata": {},
     "output_type": "execute_result"
    }
   ],
   "source": [
    "water_level.describe()"
   ]
  },
  {
   "cell_type": "code",
   "execution_count": 15,
   "metadata": {},
   "outputs": [
    {
     "data": {
      "text/plain": [
       "Stage m    16.38\n",
       "dtype: float64"
      ]
     },
     "execution_count": 15,
     "metadata": {},
     "output_type": "execute_result"
    }
   ],
   "source": [
    "water_level.median()"
   ]
  },
  {
   "cell_type": "code",
   "execution_count": 16,
   "metadata": {},
   "outputs": [],
   "source": [
    "#saving cleaned data\n",
    "water_level.to_csv('cleaned-JPS WL data-kbharu.csv')"
   ]
  },
  {
   "cell_type": "markdown",
   "metadata": {},
   "source": [
    "## Data visualization"
   ]
  },
  {
   "cell_type": "code",
   "execution_count": 17,
   "metadata": {},
   "outputs": [
    {
     "data": {
      "image/png": "[encoded data removed]",
      "text/plain": [
       "<Figure size 432x288 with 1 Axes>"
      ]
     },
     "metadata": {
      "needs_background": "light"
     },
     "output_type": "display_data"
    }
   ],
   "source": [
    "#plot the time series of water level \n",
    "plt.style.use('seaborn-deep')\n",
    "ax = water_level.plot(color='coral', grid=True, linewidth=0.5)\n",
    "ax.set_xlabel('Year')\n",
    "ax.set_ylabel('Level of Water')\n",
    "ax.set_title('At KB')\n",
    "plt.show()"
   ]
  },
  {
   "cell_type": "code",
   "execution_count": 18,
   "metadata": {},
   "outputs": [
    {
     "data": {
      "text/plain": [
       "<AxesSubplot:ylabel='Frequency'>"
      ]
     },
     "execution_count": 18,
     "metadata": {},
     "output_type": "execute_result"
    },
    {
     "data": {
      "image/png": "[encoded data removed]",
      "text/plain": [
       "<Figure size 432x288 with 1 Axes>"
      ]
     },
     "metadata": {
      "needs_background": "light"
     },
     "output_type": "display_data"
    }
   ],
   "source": [
    "#plot the histogram\n",
    "water_level.plot(kind='hist', bins=100, color='green', grid=True)"
   ]
  },
  {
   "cell_type": "code",
   "execution_count": 19,
   "metadata": {},
   "outputs": [
    {
     "data": {
      "text/plain": [
       "<AxesSubplot:ylabel='Density'>"
      ]
     },
     "execution_count": 19,
     "metadata": {},
     "output_type": "execute_result"
    },
    {
     "data": {
      "image/png": "[encoded data removed]",
      "text/plain": [
       "<Figure size 432x288 with 1 Axes>"
      ]
     },
     "metadata": {
      "needs_background": "light"
     },
     "output_type": "display_data"
    }
   ],
   "source": [
    "# kernel density plot\n",
    "water_level.plot(kind='density', color=\"red\", grid=True, linewidth=3, fontsize=10)"
   ]
  },
  {
   "cell_type": "code",
   "execution_count": 20,
   "metadata": {},
   "outputs": [
    {
     "data": {
      "text/plain": [
       "<Figure size 432x216 with 0 Axes>"
      ]
     },
     "metadata": {},
     "output_type": "display_data"
    },
    {
     "data": {
      "image/png": "[encoded data removed]",
      "text/plain": [
       "<Figure size 432x432 with 3 Axes>"
      ]
     },
     "metadata": {
      "needs_background": "light"
     },
     "output_type": "display_data"
    }
   ],
   "source": [
    "#scatter plot with marginal histograms\n",
    "import seaborn as sns\n",
    "\n",
    "plt.figure(figsize=(6, 3))\n",
    "sns.jointplot(\n",
    "    x=\"Date\", y=\"Stage m\",\n",
    "    edgecolor=\"white\",\n",
    "    data=water_level\n",
    ")\n",
    "plt.xlabel(\"Date\")\n",
    "plt.ylabel(\"Stage m\");"
   ]
  },
  {
   "cell_type": "code",
   "execution_count": 21,
   "metadata": {},
   "outputs": [
    {
     "data": {
      "image/png": "[encoded data removed]",
      "text/plain": [
       "<Figure size 432x288 with 1 Axes>"
      ]
     },
     "metadata": {
      "needs_background": "light"
     },
     "output_type": "display_data"
    }
   ],
   "source": [
    "# lag plot\n",
    "from pandas.plotting import lag_plot\n",
    "\n",
    "lag_plot(water_level)\n",
    "plt.show()"
   ]
  },
  {
   "cell_type": "markdown",
   "metadata": {},
   "source": [
    "The plot above shows the water level data on the y(t) against its previous time step, prior month, the the y(t+1). It is assume that the relationship is positive.\n"
   ]
  },
  {
   "cell_type": "code",
   "execution_count": 22,
   "metadata": {},
   "outputs": [
    {
     "name": "stdout",
     "output_type": "stream",
     "text": [
      "The autocorrelation is: 0.94\n"
     ]
    }
   ],
   "source": [
    "# Autocorrelation\n",
    "autocorrelation = water_level['Stage m'].autocorr()\n",
    "print(\"The autocorrelation is: %4.2f\" %(autocorrelation))"
   ]
  },
  {
   "cell_type": "markdown",
   "metadata": {},
   "source": [
    "The correlation between the water level data and its lag variable by a time step shows a high correlation at 0.93. This indicates that there is a substantial, positive relationship."
   ]
  },
  {
   "cell_type": "code",
   "execution_count": 23,
   "metadata": {},
   "outputs": [
    {
     "data": {
      "image/png": "[encoded data removed]",
      "text/plain": [
       "<Figure size 432x288 with 1 Axes>"
      ]
     },
     "metadata": {
      "needs_background": "light"
     },
     "output_type": "display_data"
    }
   ],
   "source": [
    "# Plot ACF to visualize the autocorrelation\n",
    "from statsmodels.graphics.tsaplots import plot_acf\n",
    "plot_acf(water_level['Stage m'], lags=12);"
   ]
  },
  {
   "cell_type": "markdown",
   "metadata": {},
   "source": [
    "The partial autocorrelation function (PACF) gives the partial correlation of a time series with its own lagged values.\n",
    "\n",
    "Value of partial autocorrelation that are close to 0 indicates that there is no correlation between observations values and lagged values. On the other hand, value close to 1 or -1 shows that correlations are in strong positive or negative between the lagged observations of the time series."
   ]
  }
 ],
 "metadata": {
  "kernelspec": {
   "display_name": "Python 3",
   "language": "python",
   "name": "python3"
  },
  "language_info": {
   "codemirror_mode": {
    "name": "ipython",
    "version": 3
   },
   "file_extension": ".py",
   "mimetype": "text/x-python",
   "name": "python",
   "nbconvert_exporter": "python",
   "pygments_lexer": "ipython3",
   "version": "3.8.5"
  }
 },
 "nbformat": 4,
 "nbformat_minor": 4
}
