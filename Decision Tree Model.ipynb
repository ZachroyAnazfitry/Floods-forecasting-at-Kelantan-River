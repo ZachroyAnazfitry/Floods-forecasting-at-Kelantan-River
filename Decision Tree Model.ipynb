{
 "cells": [
  {
   "cell_type": "markdown",
   "metadata": {},
   "source": [
    "## Decision tree model for Kota Bharu water level data\n",
    "A building block to Random Forest is a Decision Tree. Decision trees start with a root node and end with a leaf node. For numeric feature, tree split on each unique value of each data. Tree-based models may poorly handle trends in data, compared to linear models, so I will detrend the series first."
   ]
  },
  {
   "cell_type": "code",
   "execution_count": 1,
   "metadata": {},
   "outputs": [],
   "source": [
    "import pandas as pd\n",
    "from pandas import read_csv\n",
    "from matplotlib import pyplot"
   ]
  },
  {
   "cell_type": "code",
   "execution_count": 2,
   "metadata": {},
   "outputs": [
    {
     "data": {
      "text/html": [
       "<div>\n",
       "<style scoped>\n",
       "    .dataframe tbody tr th:only-of-type {\n",
       "        vertical-align: middle;\n",
       "    }\n",
       "\n",
       "    .dataframe tbody tr th {\n",
       "        vertical-align: top;\n",
       "    }\n",
       "\n",
       "    .dataframe thead th {\n",
       "        text-align: right;\n",
       "    }\n",
       "</style>\n",
       "<table border=\"1\" class=\"dataframe\">\n",
       "  <thead>\n",
       "    <tr style=\"text-align: right;\">\n",
       "      <th></th>\n",
       "      <th>t-12</th>\n",
       "      <th>t-11</th>\n",
       "      <th>t-10</th>\n",
       "      <th>t-9</th>\n",
       "      <th>t-8</th>\n",
       "      <th>t-7</th>\n",
       "      <th>t-6</th>\n",
       "      <th>t-5</th>\n",
       "      <th>t-4</th>\n",
       "      <th>t-3</th>\n",
       "      <th>t-2</th>\n",
       "      <th>t-1</th>\n",
       "      <th>t</th>\n",
       "    </tr>\n",
       "  </thead>\n",
       "  <tbody>\n",
       "    <tr>\n",
       "      <th>0</th>\n",
       "      <td>0.03</td>\n",
       "      <td>0.01</td>\n",
       "      <td>-0.05</td>\n",
       "      <td>0.01</td>\n",
       "      <td>0.01</td>\n",
       "      <td>0.00</td>\n",
       "      <td>-0.01</td>\n",
       "      <td>0.00</td>\n",
       "      <td>-0.04</td>\n",
       "      <td>0.02</td>\n",
       "      <td>-0.01</td>\n",
       "      <td>-0.02</td>\n",
       "      <td>-0.01</td>\n",
       "    </tr>\n",
       "    <tr>\n",
       "      <th>1</th>\n",
       "      <td>0.01</td>\n",
       "      <td>-0.05</td>\n",
       "      <td>0.01</td>\n",
       "      <td>0.01</td>\n",
       "      <td>0.00</td>\n",
       "      <td>-0.01</td>\n",
       "      <td>0.00</td>\n",
       "      <td>-0.04</td>\n",
       "      <td>0.02</td>\n",
       "      <td>-0.01</td>\n",
       "      <td>-0.02</td>\n",
       "      <td>-0.01</td>\n",
       "      <td>0.00</td>\n",
       "    </tr>\n",
       "    <tr>\n",
       "      <th>2</th>\n",
       "      <td>-0.05</td>\n",
       "      <td>0.01</td>\n",
       "      <td>0.01</td>\n",
       "      <td>0.00</td>\n",
       "      <td>-0.01</td>\n",
       "      <td>0.00</td>\n",
       "      <td>-0.04</td>\n",
       "      <td>0.02</td>\n",
       "      <td>-0.01</td>\n",
       "      <td>-0.02</td>\n",
       "      <td>-0.01</td>\n",
       "      <td>0.00</td>\n",
       "      <td>-0.05</td>\n",
       "    </tr>\n",
       "    <tr>\n",
       "      <th>3</th>\n",
       "      <td>0.01</td>\n",
       "      <td>0.01</td>\n",
       "      <td>0.00</td>\n",
       "      <td>-0.01</td>\n",
       "      <td>0.00</td>\n",
       "      <td>-0.04</td>\n",
       "      <td>0.02</td>\n",
       "      <td>-0.01</td>\n",
       "      <td>-0.02</td>\n",
       "      <td>-0.01</td>\n",
       "      <td>0.00</td>\n",
       "      <td>-0.05</td>\n",
       "      <td>-0.05</td>\n",
       "    </tr>\n",
       "    <tr>\n",
       "      <th>4</th>\n",
       "      <td>0.01</td>\n",
       "      <td>0.00</td>\n",
       "      <td>-0.01</td>\n",
       "      <td>0.00</td>\n",
       "      <td>-0.04</td>\n",
       "      <td>0.02</td>\n",
       "      <td>-0.01</td>\n",
       "      <td>-0.02</td>\n",
       "      <td>-0.01</td>\n",
       "      <td>0.00</td>\n",
       "      <td>-0.05</td>\n",
       "      <td>-0.05</td>\n",
       "      <td>-0.05</td>\n",
       "    </tr>\n",
       "  </tbody>\n",
       "</table>\n",
       "</div>"
      ],
      "text/plain": [
       "   t-12  t-11  t-10   t-9   t-8   t-7   t-6   t-5   t-4   t-3   t-2   t-1  \\\n",
       "0  0.03  0.01 -0.05  0.01  0.01  0.00 -0.01  0.00 -0.04  0.02 -0.01 -0.02   \n",
       "1  0.01 -0.05  0.01  0.01  0.00 -0.01  0.00 -0.04  0.02 -0.01 -0.02 -0.01   \n",
       "2 -0.05  0.01  0.01  0.00 -0.01  0.00 -0.04  0.02 -0.01 -0.02 -0.01  0.00   \n",
       "3  0.01  0.01  0.00 -0.01  0.00 -0.04  0.02 -0.01 -0.02 -0.01  0.00 -0.05   \n",
       "4  0.01  0.00 -0.01  0.00 -0.04  0.02 -0.01 -0.02 -0.01  0.00 -0.05 -0.05   \n",
       "\n",
       "      t  \n",
       "0 -0.01  \n",
       "1  0.00  \n",
       "2 -0.05  \n",
       "3 -0.05  \n",
       "4 -0.05  "
      ]
     },
     "execution_count": 2,
     "metadata": {},
     "output_type": "execute_result"
    }
   ],
   "source": [
    "wl1 = pd.read_csv('waterlevel_lags_12months_features.csv', header=0)\n",
    "wl1.head()"
   ]
  },
  {
   "cell_type": "code",
   "execution_count": 3,
   "metadata": {},
   "outputs": [],
   "source": [
    "# Split data\n",
    "\n",
    "wl = wl1.values\n",
    "# split into lagged variables and original time series\n",
    "X1= wl[:, 0:-1]  # slice all rows and start with column 0 and go up to but not including the last column\n",
    "y1 = wl[:,-1]  # slice all rows and last column, essentially separating out 't' column"
   ]
  },
  {
   "cell_type": "code",
   "execution_count": 4,
   "metadata": {},
   "outputs": [
    {
     "data": {
      "text/plain": [
       "array([[ 0.03,  0.01, -0.05, ...,  0.02, -0.01, -0.02],\n",
       "       [ 0.01, -0.05,  0.01, ..., -0.01, -0.02, -0.01],\n",
       "       [-0.05,  0.01,  0.01, ..., -0.02, -0.01,  0.  ],\n",
       "       ...,\n",
       "       [ 0.  ,  0.  ,  0.11, ..., -0.03,  0.07, -0.01],\n",
       "       [ 0.  ,  0.11, -0.01, ...,  0.07, -0.01, -0.09],\n",
       "       [ 0.11, -0.01,  0.  , ..., -0.01, -0.09,  0.02]])"
      ]
     },
     "execution_count": 4,
     "metadata": {},
     "output_type": "execute_result"
    }
   ],
   "source": [
    "# Columns t-1 to t-12, which are the lagged variables\n",
    "X1"
   ]
  },
  {
   "cell_type": "code",
   "execution_count": 5,
   "metadata": {},
   "outputs": [
    {
     "data": {
      "text/plain": [
       "array([-0.01,  0.  , -0.05, -0.05, -0.05, -0.05, -0.02, -0.1 ,  0.02,\n",
       "       -0.06])"
      ]
     },
     "execution_count": 5,
     "metadata": {},
     "output_type": "execute_result"
    }
   ],
   "source": [
    "y1[0:10]"
   ]
  },
  {
   "cell_type": "code",
   "execution_count": 6,
   "metadata": {},
   "outputs": [
    {
     "name": "stdout",
     "output_type": "stream",
     "text": [
      "Observations for Target: 3483\n",
      "Training Observations for Target: 2786\n",
      "Testing Observations for Target: 697\n"
     ]
    }
   ],
   "source": [
    "# Target Train-Test split\n",
    "from pandas import read_csv\n",
    "\n",
    "Y1 = y1\n",
    "traintarget_size = int(len(Y1) * 0.80)   # Set split(80%)\n",
    "train_target, test_target = Y1[0:traintarget_size], Y1[traintarget_size:len(Y1)]\n",
    "\n",
    "print('Observations for Target: %d' % (len(Y1)))\n",
    "print('Training Observations for Target: %d' % (len(train_target)))\n",
    "print('Testing Observations for Target: %d' % (len(test_target)))"
   ]
  },
  {
   "cell_type": "code",
   "execution_count": 7,
   "metadata": {},
   "outputs": [
    {
     "name": "stdout",
     "output_type": "stream",
     "text": [
      "Observations for feature: 3483\n",
      "Training Observations for feature: 2786\n",
      "Testing Observations for feature: 697\n"
     ]
    }
   ],
   "source": [
    "# Features Train-Test split\n",
    "\n",
    "trainfeature_size = int(len(X1) * 0.80)\n",
    "train_feature, test_feature = X1[0:trainfeature_size], X1[trainfeature_size:len(X1)]\n",
    "print('Observations for feature: %d' % (len(X1)))\n",
    "print('Training Observations for feature: %d' % (len(train_feature)))\n",
    "print('Testing Observations for feature: %d' % (len(test_feature)))"
   ]
  },
  {
   "cell_type": "code",
   "execution_count": 8,
   "metadata": {},
   "outputs": [
    {
     "name": "stdout",
     "output_type": "stream",
     "text": [
      "0.9999759457048985\n",
      "-0.6559759582352884\n"
     ]
    }
   ],
   "source": [
    "# Decision Tree Regresion Model\n",
    "\n",
    "from sklearn.tree import DecisionTreeRegressor\n",
    "\n",
    "# Create a decision tree regression model with default arguments\n",
    "decision_tree_wl = DecisionTreeRegressor()  # max-depth not set\n",
    "\n",
    "# Fit the model to the training features and targets\n",
    "decision_tree_wl.fit(train_feature, train_target)\n",
    "\n",
    "# Check the score on train and test\n",
    "print(decision_tree_wl.score(train_feature, train_target))\n",
    "print(decision_tree_wl.score(test_feature,test_target))  # predictions are horrible if negative value, no relationship if 0"
   ]
  },
  {
   "cell_type": "markdown",
   "metadata": {},
   "source": [
    "- The first value is refer to training very high\n",
    "- The second value referred to testing, very poor"
   ]
  },
  {
   "cell_type": "code",
   "execution_count": 9,
   "metadata": {},
   "outputs": [
    {
     "name": "stdout",
     "output_type": "stream",
     "text": [
      "max_depth= 2\n",
      "0.1193380100186664\n",
      "-0.026775580260065324 \n",
      "\n",
      "max_depth= 3\n",
      "0.19971264514884235\n",
      "0.003833802164200817 \n",
      "\n",
      "max_depth= 4\n",
      "0.27693353222452766\n",
      "-0.002067453735280056 \n",
      "\n",
      "max_depth= 5\n",
      "0.36040060365321414\n",
      "0.00743304202317896 \n",
      "\n",
      "max_depth= 7\n",
      "0.45709150305337687\n",
      "-0.04853220007573289 \n",
      "\n",
      "max_depth= 8\n",
      "0.4895262602119298\n",
      "-0.08071510622780975 \n",
      "\n",
      "max_depth= 10\n",
      "0.5863117127821845\n",
      "-0.1942255373609485 \n",
      "\n"
     ]
    }
   ],
   "source": [
    "# Find the best Max Depth\n",
    "\n",
    "# Loop through a few different max depths and check the performance\n",
    "# Try different max depths. to optimize ML models to make the best predictions possible.\n",
    "# For regular decision trees, max_depth, which is a hyperparameter, limits the number of splits in a tree.\n",
    "# Need to find the best value of max_depth based on the R-squared score of the model on the test set.\n",
    "\n",
    "for d in [2, 3, 4, 5,7,8,10]:\n",
    "    # Create the tree and fit it\n",
    "    decision_tree_wl = DecisionTreeRegressor(max_depth=d)\n",
    "    decision_tree_wl.fit(train_feature, train_target)\n",
    "\n",
    "    # Print out the scores on train and test\n",
    "    print('max_depth=', str(d))\n",
    "    print(decision_tree_wl.score(train_feature, train_target))\n",
    "    print(decision_tree_wl.score(test_feature, test_target), '\\n')  # the test score is the r2 value"
   ]
  },
  {
   "cell_type": "markdown",
   "metadata": {},
   "source": [
    "All of the test score will be compared and the highest r2 value(second value) will be chosen. In this case max_depth equals to 5 have the highest r2 value."
   ]
  },
  {
   "cell_type": "code",
   "execution_count": 10,
   "metadata": {},
   "outputs": [
    {
     "name": "stdout",
     "output_type": "stream",
     "text": [
      "1.22 µs ± 38.8 ns per loop (mean ± std. dev. of 7 runs, 1000000 loops each)\n"
     ]
    },
    {
     "data": {
      "image/png": "[encoded data removed]",
      "text/plain": [
       "<Figure size 432x288 with 1 Axes>"
      ]
     },
     "metadata": {
      "needs_background": "light"
     },
     "output_type": "display_data"
    }
   ],
   "source": [
    "# Plot predicted against actual values\n",
    "from matplotlib import pyplot as plt\n",
    "\n",
    "# Use the best max_depth \n",
    "%timeit decision_tree_wl = DecisionTreeRegressor(max_depth=5)  # fill in best max depth here\n",
    "decision_tree_wl.fit(train_feature, train_target)\n",
    "\n",
    "# Predict values for train and test\n",
    "train_prediction = decision_tree_wl.predict(train_feature)\n",
    "test_prediction = decision_tree_wl.predict(test_feature)\n",
    "\n",
    "# Scatter the predictions vs actual values\n",
    "plt.scatter(train_prediction, train_target, label='train')  # blue\n",
    "plt.scatter(test_prediction, test_target, label='test')  # orange\n",
    "plt.show()"
   ]
  },
  {
   "cell_type": "markdown",
   "metadata": {},
   "source": [
    "Yellow point is predicted values while blue indicates actual values. The model considered as good in the analysis."
   ]
  }
 ],
 "metadata": {
  "kernelspec": {
   "display_name": "Python 3",
   "language": "python",
   "name": "python3"
  },
  "language_info": {
   "codemirror_mode": {
    "name": "ipython",
    "version": 3
   },
   "file_extension": ".py",
   "mimetype": "text/x-python",
   "name": "python",
   "nbconvert_exporter": "python",
   "pygments_lexer": "ipython3",
   "version": "3.8.5"
  }
 },
 "nbformat": 4,
 "nbformat_minor": 4
}
