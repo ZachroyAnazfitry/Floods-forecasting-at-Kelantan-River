{
 "cells": [
  {
   "cell_type": "markdown",
   "metadata": {},
   "source": [
    "## Data preparation for Decision Tree model\n",
    "\n",
    "I prepared data for Decision Tree(DT) analysis by creating lagged variables\n"
   ]
  },
  {
   "cell_type": "code",
   "execution_count": 1,
   "metadata": {},
   "outputs": [
    {
     "name": "stderr",
     "output_type": "stream",
     "text": [
      "/Users/ZachAnaz/opt/anaconda3/lib/python3.8/site-packages/statsmodels/tsa/base/tsa_model.py:7: FutureWarning: pandas.Int64Index is deprecated and will be removed from pandas in a future version. Use pandas.Index with the appropriate dtype instead.\n",
      "  from pandas import (to_datetime, Int64Index, DatetimeIndex, Period,\n",
      "/Users/ZachAnaz/opt/anaconda3/lib/python3.8/site-packages/statsmodels/tsa/base/tsa_model.py:7: FutureWarning: pandas.Float64Index is deprecated and will be removed from pandas in a future version. Use pandas.Index with the appropriate dtype instead.\n",
      "  from pandas import (to_datetime, Int64Index, DatetimeIndex, Period,\n"
     ]
    }
   ],
   "source": [
    "import numpy as np\n",
    "import pandas as pd\n",
    "from matplotlib import pyplot\n",
    "from matplotlib.pylab import plot\n",
    "from pandas.plotting import lag_plot\n",
    "from statsmodels.graphics.tsaplots import plot_acf\n"
   ]
  },
  {
   "cell_type": "code",
   "execution_count": 2,
   "metadata": {},
   "outputs": [
    {
     "data": {
      "text/html": [
       "<div>\n",
       "<style scoped>\n",
       "    .dataframe tbody tr th:only-of-type {\n",
       "        vertical-align: middle;\n",
       "    }\n",
       "\n",
       "    .dataframe tbody tr th {\n",
       "        vertical-align: top;\n",
       "    }\n",
       "\n",
       "    .dataframe thead th {\n",
       "        text-align: right;\n",
       "    }\n",
       "</style>\n",
       "<table border=\"1\" class=\"dataframe\">\n",
       "  <thead>\n",
       "    <tr style=\"text-align: right;\">\n",
       "      <th></th>\n",
       "      <th>Stage m</th>\n",
       "    </tr>\n",
       "    <tr>\n",
       "      <th>Date</th>\n",
       "      <th></th>\n",
       "    </tr>\n",
       "  </thead>\n",
       "  <tbody>\n",
       "    <tr>\n",
       "      <th>2010-01-01</th>\n",
       "      <td>17.06</td>\n",
       "    </tr>\n",
       "    <tr>\n",
       "      <th>2010-02-01</th>\n",
       "      <td>17.00</td>\n",
       "    </tr>\n",
       "    <tr>\n",
       "      <th>2010-03-01</th>\n",
       "      <td>17.31</td>\n",
       "    </tr>\n",
       "    <tr>\n",
       "      <th>2010-04-01</th>\n",
       "      <td>18.60</td>\n",
       "    </tr>\n",
       "    <tr>\n",
       "      <th>2010-05-01</th>\n",
       "      <td>18.15</td>\n",
       "    </tr>\n",
       "  </tbody>\n",
       "</table>\n",
       "</div>"
      ],
      "text/plain": [
       "            Stage m\n",
       "Date               \n",
       "2010-01-01    17.06\n",
       "2010-02-01    17.00\n",
       "2010-03-01    17.31\n",
       "2010-04-01    18.60\n",
       "2010-05-01    18.15"
      ]
     },
     "execution_count": 2,
     "metadata": {},
     "output_type": "execute_result"
    }
   ],
   "source": [
    "water_level = pd.read_csv('cleaned-JPS WL data-kkrai.csv', index_col=0, parse_dates=True)  \n",
    "water_level.head(5)"
   ]
  },
  {
   "cell_type": "code",
   "execution_count": 3,
   "metadata": {},
   "outputs": [
    {
     "data": {
      "text/plain": [
       "Stage m    float64\n",
       "dtype: object"
      ]
     },
     "execution_count": 3,
     "metadata": {},
     "output_type": "execute_result"
    }
   ],
   "source": [
    "# check data types\n",
    "water_level.dtypes"
   ]
  },
  {
   "cell_type": "code",
   "execution_count": 4,
   "metadata": {},
   "outputs": [
    {
     "data": {
      "text/html": [
       "<div>\n",
       "<style scoped>\n",
       "    .dataframe tbody tr th:only-of-type {\n",
       "        vertical-align: middle;\n",
       "    }\n",
       "\n",
       "    .dataframe tbody tr th {\n",
       "        vertical-align: top;\n",
       "    }\n",
       "\n",
       "    .dataframe thead th {\n",
       "        text-align: right;\n",
       "    }\n",
       "</style>\n",
       "<table border=\"1\" class=\"dataframe\">\n",
       "  <thead>\n",
       "    <tr style=\"text-align: right;\">\n",
       "      <th></th>\n",
       "      <th>Stage m</th>\n",
       "      <th>first_diff</th>\n",
       "    </tr>\n",
       "    <tr>\n",
       "      <th>Date</th>\n",
       "      <th></th>\n",
       "      <th></th>\n",
       "    </tr>\n",
       "  </thead>\n",
       "  <tbody>\n",
       "    <tr>\n",
       "      <th>2010-01-01</th>\n",
       "      <td>17.06</td>\n",
       "      <td>NaN</td>\n",
       "    </tr>\n",
       "    <tr>\n",
       "      <th>2010-02-01</th>\n",
       "      <td>17.00</td>\n",
       "      <td>-0.06</td>\n",
       "    </tr>\n",
       "    <tr>\n",
       "      <th>2010-03-01</th>\n",
       "      <td>17.31</td>\n",
       "      <td>0.31</td>\n",
       "    </tr>\n",
       "    <tr>\n",
       "      <th>2010-04-01</th>\n",
       "      <td>18.60</td>\n",
       "      <td>1.29</td>\n",
       "    </tr>\n",
       "    <tr>\n",
       "      <th>2010-05-01</th>\n",
       "      <td>18.15</td>\n",
       "      <td>-0.45</td>\n",
       "    </tr>\n",
       "  </tbody>\n",
       "</table>\n",
       "</div>"
      ],
      "text/plain": [
       "            Stage m  first_diff\n",
       "Date                           \n",
       "2010-01-01    17.06         NaN\n",
       "2010-02-01    17.00       -0.06\n",
       "2010-03-01    17.31        0.31\n",
       "2010-04-01    18.60        1.29\n",
       "2010-05-01    18.15       -0.45"
      ]
     },
     "execution_count": 4,
     "metadata": {},
     "output_type": "execute_result"
    }
   ],
   "source": [
    "# first differencing\n",
    "water_level['first_diff'] = water_level['Stage m'].diff()\n",
    "water_level.head()"
   ]
  },
  {
   "cell_type": "code",
   "execution_count": 5,
   "metadata": {},
   "outputs": [],
   "source": [
    "# drop NaN value\n",
    "water_level.dropna(inplace=True)\n"
   ]
  },
  {
   "cell_type": "code",
   "execution_count": 6,
   "metadata": {},
   "outputs": [
    {
     "data": {
      "text/html": [
       "<div>\n",
       "<style scoped>\n",
       "    .dataframe tbody tr th:only-of-type {\n",
       "        vertical-align: middle;\n",
       "    }\n",
       "\n",
       "    .dataframe tbody tr th {\n",
       "        vertical-align: top;\n",
       "    }\n",
       "\n",
       "    .dataframe thead th {\n",
       "        text-align: right;\n",
       "    }\n",
       "</style>\n",
       "<table border=\"1\" class=\"dataframe\">\n",
       "  <thead>\n",
       "    <tr style=\"text-align: right;\">\n",
       "      <th></th>\n",
       "      <th>Stage m</th>\n",
       "      <th>first_diff</th>\n",
       "    </tr>\n",
       "  </thead>\n",
       "  <tbody>\n",
       "    <tr>\n",
       "      <th>count</th>\n",
       "      <td>3498.000000</td>\n",
       "      <td>3498.000000</td>\n",
       "    </tr>\n",
       "    <tr>\n",
       "      <th>mean</th>\n",
       "      <td>16.638110</td>\n",
       "      <td>-0.000455</td>\n",
       "    </tr>\n",
       "    <tr>\n",
       "      <th>std</th>\n",
       "      <td>1.583119</td>\n",
       "      <td>0.558705</td>\n",
       "    </tr>\n",
       "    <tr>\n",
       "      <th>min</th>\n",
       "      <td>1.680000</td>\n",
       "      <td>-8.490000</td>\n",
       "    </tr>\n",
       "    <tr>\n",
       "      <th>25%</th>\n",
       "      <td>15.830000</td>\n",
       "      <td>-0.140000</td>\n",
       "    </tr>\n",
       "    <tr>\n",
       "      <th>50%</th>\n",
       "      <td>16.380000</td>\n",
       "      <td>-0.020000</td>\n",
       "    </tr>\n",
       "    <tr>\n",
       "      <th>75%</th>\n",
       "      <td>17.120000</td>\n",
       "      <td>0.100000</td>\n",
       "    </tr>\n",
       "    <tr>\n",
       "      <th>max</th>\n",
       "      <td>33.930000</td>\n",
       "      <td>8.760000</td>\n",
       "    </tr>\n",
       "  </tbody>\n",
       "</table>\n",
       "</div>"
      ],
      "text/plain": [
       "           Stage m   first_diff\n",
       "count  3498.000000  3498.000000\n",
       "mean     16.638110    -0.000455\n",
       "std       1.583119     0.558705\n",
       "min       1.680000    -8.490000\n",
       "25%      15.830000    -0.140000\n",
       "50%      16.380000    -0.020000\n",
       "75%      17.120000     0.100000\n",
       "max      33.930000     8.760000"
      ]
     },
     "execution_count": 6,
     "metadata": {},
     "output_type": "execute_result"
    }
   ],
   "source": [
    "water_level.describe()"
   ]
  },
  {
   "cell_type": "code",
   "execution_count": 7,
   "metadata": {},
   "outputs": [
    {
     "data": {
      "text/html": [
       "<div>\n",
       "<style scoped>\n",
       "    .dataframe tbody tr th:only-of-type {\n",
       "        vertical-align: middle;\n",
       "    }\n",
       "\n",
       "    .dataframe tbody tr th {\n",
       "        vertical-align: top;\n",
       "    }\n",
       "\n",
       "    .dataframe thead th {\n",
       "        text-align: right;\n",
       "    }\n",
       "</style>\n",
       "<table border=\"1\" class=\"dataframe\">\n",
       "  <thead>\n",
       "    <tr style=\"text-align: right;\">\n",
       "      <th></th>\n",
       "      <th>Stage m</th>\n",
       "      <th>first_diff</th>\n",
       "      <th>second_diff</th>\n",
       "    </tr>\n",
       "  </thead>\n",
       "  <tbody>\n",
       "    <tr>\n",
       "      <th>count</th>\n",
       "      <td>3496.000000</td>\n",
       "      <td>3496.000000</td>\n",
       "      <td>3496.000000</td>\n",
       "    </tr>\n",
       "    <tr>\n",
       "      <th>mean</th>\n",
       "      <td>16.637815</td>\n",
       "      <td>-0.000526</td>\n",
       "      <td>-0.000892</td>\n",
       "    </tr>\n",
       "    <tr>\n",
       "      <th>std</th>\n",
       "      <td>1.583519</td>\n",
       "      <td>0.558839</td>\n",
       "      <td>0.934697</td>\n",
       "    </tr>\n",
       "    <tr>\n",
       "      <th>min</th>\n",
       "      <td>1.680000</td>\n",
       "      <td>-8.490000</td>\n",
       "      <td>-15.330000</td>\n",
       "    </tr>\n",
       "    <tr>\n",
       "      <th>25%</th>\n",
       "      <td>15.830000</td>\n",
       "      <td>-0.140000</td>\n",
       "      <td>-0.240000</td>\n",
       "    </tr>\n",
       "    <tr>\n",
       "      <th>50%</th>\n",
       "      <td>16.380000</td>\n",
       "      <td>-0.020000</td>\n",
       "      <td>-0.030000</td>\n",
       "    </tr>\n",
       "    <tr>\n",
       "      <th>75%</th>\n",
       "      <td>17.120000</td>\n",
       "      <td>0.100000</td>\n",
       "      <td>0.170000</td>\n",
       "    </tr>\n",
       "    <tr>\n",
       "      <th>max</th>\n",
       "      <td>33.930000</td>\n",
       "      <td>8.760000</td>\n",
       "      <td>15.530000</td>\n",
       "    </tr>\n",
       "  </tbody>\n",
       "</table>\n",
       "</div>"
      ],
      "text/plain": [
       "           Stage m   first_diff  second_diff\n",
       "count  3496.000000  3496.000000  3496.000000\n",
       "mean     16.637815    -0.000526    -0.000892\n",
       "std       1.583519     0.558839     0.934697\n",
       "min       1.680000    -8.490000   -15.330000\n",
       "25%      15.830000    -0.140000    -0.240000\n",
       "50%      16.380000    -0.020000    -0.030000\n",
       "75%      17.120000     0.100000     0.170000\n",
       "max      33.930000     8.760000    15.530000"
      ]
     },
     "execution_count": 7,
     "metadata": {},
     "output_type": "execute_result"
    }
   ],
   "source": [
    "# second differencing\n",
    "water_level['second_diff'] = water_level['Stage m'].diff(2)\n",
    "water_level.dropna(inplace=True)\n",
    "water_level.describe()"
   ]
  },
  {
   "cell_type": "code",
   "execution_count": 8,
   "metadata": {},
   "outputs": [
    {
     "data": {
      "text/plain": [
       "Text(0.5, 1.0, 'WL at Kota Bharu')"
      ]
     },
     "execution_count": 8,
     "metadata": {},
     "output_type": "execute_result"
    },
    {
     "data": {
      "image/png": "[encoded data removed]",
      "text/plain": [
       "<Figure size 576x360 with 1 Axes>"
      ]
     },
     "metadata": {
      "needs_background": "light"
     },
     "output_type": "display_data"
    }
   ],
   "source": [
    "# Plot the time series\n",
    "# opt for 1st differencing\n",
    "ax = water_level['first_diff'].plot(color='green', grid=True, figsize=(8,5))\n",
    "ax.set_xlabel('Year')\n",
    "ax.set_ylabel('Water Level')\n",
    "ax.set_title('WL at Kota Bharu')"
   ]
  },
  {
   "cell_type": "code",
   "execution_count": 9,
   "metadata": {},
   "outputs": [
    {
     "data": {
      "text/plain": [
       "<AxesSubplot:ylabel='Density'>"
      ]
     },
     "execution_count": 9,
     "metadata": {},
     "output_type": "execute_result"
    },
    {
     "data": {
      "image/png": "[encoded data removed]",
      "text/plain": [
       "<Figure size 432x288 with 1 Axes>"
      ]
     },
     "metadata": {
      "needs_background": "light"
     },
     "output_type": "display_data"
    }
   ],
   "source": [
    "# Plot kernel density plot\n",
    "water_level['first_diff'].plot(kind='kde')"
   ]
  },
  {
   "cell_type": "code",
   "execution_count": 10,
   "metadata": {},
   "outputs": [
    {
     "data": {
      "text/html": [
       "<div>\n",
       "<style scoped>\n",
       "    .dataframe tbody tr th:only-of-type {\n",
       "        vertical-align: middle;\n",
       "    }\n",
       "\n",
       "    .dataframe tbody tr th {\n",
       "        vertical-align: top;\n",
       "    }\n",
       "\n",
       "    .dataframe thead th {\n",
       "        text-align: right;\n",
       "    }\n",
       "</style>\n",
       "<table border=\"1\" class=\"dataframe\">\n",
       "  <thead>\n",
       "    <tr style=\"text-align: right;\">\n",
       "      <th></th>\n",
       "      <th>first_diff</th>\n",
       "    </tr>\n",
       "    <tr>\n",
       "      <th>Date</th>\n",
       "      <th></th>\n",
       "    </tr>\n",
       "  </thead>\n",
       "  <tbody>\n",
       "    <tr>\n",
       "      <th>2010-04-01</th>\n",
       "      <td>1.29</td>\n",
       "    </tr>\n",
       "    <tr>\n",
       "      <th>2010-05-01</th>\n",
       "      <td>-0.45</td>\n",
       "    </tr>\n",
       "    <tr>\n",
       "      <th>2010-06-01</th>\n",
       "      <td>-0.75</td>\n",
       "    </tr>\n",
       "    <tr>\n",
       "      <th>2010-07-01</th>\n",
       "      <td>0.06</td>\n",
       "    </tr>\n",
       "    <tr>\n",
       "      <th>2010-08-01</th>\n",
       "      <td>0.25</td>\n",
       "    </tr>\n",
       "  </tbody>\n",
       "</table>\n",
       "</div>"
      ],
      "text/plain": [
       "            first_diff\n",
       "Date                  \n",
       "2010-04-01        1.29\n",
       "2010-05-01       -0.45\n",
       "2010-06-01       -0.75\n",
       "2010-07-01        0.06\n",
       "2010-08-01        0.25"
      ]
     },
     "execution_count": 10,
     "metadata": {},
     "output_type": "execute_result"
    }
   ],
   "source": [
    "df_wl = water_level[['first_diff']]\n",
    "df_wl.head()"
   ]
  },
  {
   "cell_type": "code",
   "execution_count": 11,
   "metadata": {},
   "outputs": [
    {
     "name": "stdout",
     "output_type": "stream",
     "text": [
      "            first_diff\n",
      "Date                  \n",
      "2010-04-01        1.29\n",
      "2010-05-01       -0.45\n",
      "2010-06-01       -0.75\n",
      "2010-07-01        0.06\n",
      "2010-08-01        0.25\n"
     ]
    },
    {
     "data": {
      "image/png": "[encoded data removed]",
      "text/plain": [
       "<Figure size 576x360 with 1 Axes>"
      ]
     },
     "metadata": {
      "needs_background": "light"
     },
     "output_type": "display_data"
    }
   ],
   "source": [
    "# display first few rows\n",
    "print(df_wl.head(5))\n",
    "# line plot of dataset\n",
    "df_wl.plot(figsize=(8,5))\n",
    "pyplot.show()"
   ]
  },
  {
   "cell_type": "markdown",
   "metadata": {},
   "source": [
    "The plot shows that seasonality and trend were removed from the series through differencing. Above is the plot of the differenced data.\n",
    "\n"
   ]
  },
  {
   "cell_type": "code",
   "execution_count": 12,
   "metadata": {},
   "outputs": [
    {
     "data": {
      "text/html": [
       "<div>\n",
       "<style scoped>\n",
       "    .dataframe tbody tr th:only-of-type {\n",
       "        vertical-align: middle;\n",
       "    }\n",
       "\n",
       "    .dataframe tbody tr th {\n",
       "        vertical-align: top;\n",
       "    }\n",
       "\n",
       "    .dataframe thead th {\n",
       "        text-align: right;\n",
       "    }\n",
       "</style>\n",
       "<table border=\"1\" class=\"dataframe\">\n",
       "  <thead>\n",
       "    <tr style=\"text-align: right;\">\n",
       "      <th></th>\n",
       "      <th>first_diff</th>\n",
       "    </tr>\n",
       "  </thead>\n",
       "  <tbody>\n",
       "    <tr>\n",
       "      <th>count</th>\n",
       "      <td>3496.000000</td>\n",
       "    </tr>\n",
       "    <tr>\n",
       "      <th>mean</th>\n",
       "      <td>-0.000526</td>\n",
       "    </tr>\n",
       "    <tr>\n",
       "      <th>std</th>\n",
       "      <td>0.558839</td>\n",
       "    </tr>\n",
       "    <tr>\n",
       "      <th>min</th>\n",
       "      <td>-8.490000</td>\n",
       "    </tr>\n",
       "    <tr>\n",
       "      <th>25%</th>\n",
       "      <td>-0.140000</td>\n",
       "    </tr>\n",
       "    <tr>\n",
       "      <th>50%</th>\n",
       "      <td>-0.020000</td>\n",
       "    </tr>\n",
       "    <tr>\n",
       "      <th>75%</th>\n",
       "      <td>0.100000</td>\n",
       "    </tr>\n",
       "    <tr>\n",
       "      <th>max</th>\n",
       "      <td>8.760000</td>\n",
       "    </tr>\n",
       "  </tbody>\n",
       "</table>\n",
       "</div>"
      ],
      "text/plain": [
       "        first_diff\n",
       "count  3496.000000\n",
       "mean     -0.000526\n",
       "std       0.558839\n",
       "min      -8.490000\n",
       "25%      -0.140000\n",
       "50%      -0.020000\n",
       "75%       0.100000\n",
       "max       8.760000"
      ]
     },
     "execution_count": 12,
     "metadata": {},
     "output_type": "execute_result"
    }
   ],
   "source": [
    "df_wl.describe()"
   ]
  },
  {
   "cell_type": "code",
   "execution_count": 13,
   "metadata": {},
   "outputs": [
    {
     "data": {
      "image/png": "[encoded data removed]",
      "text/plain": [
       "<Figure size 432x288 with 1 Axes>"
      ]
     },
     "metadata": {
      "needs_background": "light"
     },
     "output_type": "display_data"
    }
   ],
   "source": [
    "from statsmodels.graphics.tsaplots import plot_acf\n",
    "# Check for autocorrelation of each lagged observation and whether it is statistically significant.\n",
    "plot_acf(df_wl)\n",
    "pyplot.show()"
   ]
  },
  {
   "cell_type": "code",
   "execution_count": 14,
   "metadata": {},
   "outputs": [
    {
     "data": {
      "image/png": "[encoded data removed]",
      "text/plain": [
       "<Figure size 432x288 with 1 Axes>"
      ]
     },
     "metadata": {
      "needs_background": "light"
     },
     "output_type": "display_data"
    }
   ],
   "source": [
    "#autocorrelation plot\n",
    "from statsmodels.graphics.tsaplots import plot_acf\n",
    "# Check for autocorrelation of each lagged observation and whether it is statistically significant.\n",
    "plot_acf(df_wl)\n",
    "pyplot.show()"
   ]
  },
  {
   "cell_type": "markdown",
   "metadata": {},
   "source": [
    "The blue shaded region is the margin of uncertainty. Candlesticks that extend out beyond the blue shaded region are considered statistically significant. Correlation values are between 1 and -1."
   ]
  },
  {
   "cell_type": "markdown",
   "metadata": {},
   "source": [
    "## Create lagged variables"
   ]
  },
  {
   "cell_type": "code",
   "execution_count": 15,
   "metadata": {},
   "outputs": [
    {
     "name": "stdout",
     "output_type": "stream",
     "text": [
      "Empty DataFrame\n",
      "Columns: []\n",
      "Index: []\n"
     ]
    }
   ],
   "source": [
    "# create lagged variables\n",
    "from pandas import DataFrame\n",
    "# reframe as supervised learning\n",
    "# lag observation (t-1) is the input variable and t is the output variable.\n",
    "wl1 = DataFrame()\n",
    "print(wl1)"
   ]
  },
  {
   "cell_type": "code",
   "execution_count": 16,
   "metadata": {},
   "outputs": [
    {
     "name": "stdout",
     "output_type": "stream",
     "text": [
      "            t-12  t-11  t-10   t-9   t-8   t-7   t-6   t-5   t-4   t-3   t-2  \\\n",
      "Date                                                                           \n",
      "2010-04-01   NaN   NaN   NaN   NaN   NaN   NaN   NaN   NaN   NaN   NaN   NaN   \n",
      "2010-05-01   NaN   NaN   NaN   NaN   NaN   NaN   NaN   NaN   NaN   NaN   NaN   \n",
      "2010-06-01   NaN   NaN   NaN   NaN   NaN   NaN   NaN   NaN   NaN   NaN  1.29   \n",
      "2010-07-01   NaN   NaN   NaN   NaN   NaN   NaN   NaN   NaN   NaN  1.29 -0.45   \n",
      "2010-08-01   NaN   NaN   NaN   NaN   NaN   NaN   NaN   NaN  1.29 -0.45 -0.75   \n",
      "...          ...   ...   ...   ...   ...   ...   ...   ...   ...   ...   ...   \n",
      "2019-07-27  0.00  0.01  0.01 -0.26 -0.40 -0.10 -0.07  0.00  0.16  0.08  0.05   \n",
      "2019-07-28  0.01  0.01 -0.26 -0.40 -0.10 -0.07  0.00  0.16  0.08  0.05  0.04   \n",
      "2019-07-29  0.01 -0.26 -0.40 -0.10 -0.07  0.00  0.16  0.08  0.05  0.04  0.02   \n",
      "2019-07-30 -0.26 -0.40 -0.10 -0.07  0.00  0.16  0.08  0.05  0.04  0.02  0.30   \n",
      "2019-07-31 -0.40 -0.10 -0.07  0.00  0.16  0.08  0.05  0.04  0.02  0.30  0.11   \n",
      "\n",
      "             t-1  \n",
      "Date              \n",
      "2010-04-01   NaN  \n",
      "2010-05-01  1.29  \n",
      "2010-06-01 -0.45  \n",
      "2010-07-01 -0.75  \n",
      "2010-08-01  0.06  \n",
      "...          ...  \n",
      "2019-07-27  0.04  \n",
      "2019-07-28  0.02  \n",
      "2019-07-29  0.30  \n",
      "2019-07-30  0.11  \n",
      "2019-07-31 -0.25  \n",
      "\n",
      "[3496 rows x 12 columns]\n"
     ]
    }
   ],
   "source": [
    "# Create 12 months of lag values to predict current observation\n",
    "# Shift of 12 months\n",
    "for i in range(12,0,-1):\n",
    "    wl1[['t-'+str(i)]] = df_wl.shift(i)\n",
    "print(wl1)"
   ]
  },
  {
   "cell_type": "code",
   "execution_count": 17,
   "metadata": {},
   "outputs": [
    {
     "name": "stdout",
     "output_type": "stream",
     "text": [
      "            t-12  t-11  t-10   t-9   t-8   t-7   t-6   t-5   t-4   t-3   t-2  \\\n",
      "Date                                                                           \n",
      "2010-04-01   NaN   NaN   NaN   NaN   NaN   NaN   NaN   NaN   NaN   NaN   NaN   \n",
      "2010-05-01   NaN   NaN   NaN   NaN   NaN   NaN   NaN   NaN   NaN   NaN   NaN   \n",
      "2010-06-01   NaN   NaN   NaN   NaN   NaN   NaN   NaN   NaN   NaN   NaN  1.29   \n",
      "2010-07-01   NaN   NaN   NaN   NaN   NaN   NaN   NaN   NaN   NaN  1.29 -0.45   \n",
      "2010-08-01   NaN   NaN   NaN   NaN   NaN   NaN   NaN   NaN  1.29 -0.45 -0.75   \n",
      "2010-09-01   NaN   NaN   NaN   NaN   NaN   NaN   NaN  1.29 -0.45 -0.75  0.06   \n",
      "2010-10-01   NaN   NaN   NaN   NaN   NaN   NaN  1.29 -0.45 -0.75  0.06  0.25   \n",
      "2010-11-01   NaN   NaN   NaN   NaN   NaN  1.29 -0.45 -0.75  0.06  0.25 -0.36   \n",
      "2010-12-01   NaN   NaN   NaN   NaN  1.29 -0.45 -0.75  0.06  0.25 -0.36 -0.34   \n",
      "2010-01-13   NaN   NaN   NaN  1.29 -0.45 -0.75  0.06  0.25 -0.36 -0.34 -0.26   \n",
      "2010-01-14   NaN   NaN  1.29 -0.45 -0.75  0.06  0.25 -0.36 -0.34 -0.26 -0.10   \n",
      "2010-01-15   NaN  1.29 -0.45 -0.75  0.06  0.25 -0.36 -0.34 -0.26 -0.10 -0.11   \n",
      "2010-01-16  1.29 -0.45 -0.75  0.06  0.25 -0.36 -0.34 -0.26 -0.10 -0.11 -0.02   \n",
      "\n",
      "             t-1     t  \n",
      "Date                    \n",
      "2010-04-01   NaN  1.29  \n",
      "2010-05-01  1.29 -0.45  \n",
      "2010-06-01 -0.45 -0.75  \n",
      "2010-07-01 -0.75  0.06  \n",
      "2010-08-01  0.06  0.25  \n",
      "2010-09-01  0.25 -0.36  \n",
      "2010-10-01 -0.36 -0.34  \n",
      "2010-11-01 -0.34 -0.26  \n",
      "2010-12-01 -0.26 -0.10  \n",
      "2010-01-13 -0.10 -0.11  \n",
      "2010-01-14 -0.11 -0.02  \n",
      "2010-01-15 -0.02 -0.08  \n",
      "2010-01-16 -0.08 -0.05  \n"
     ]
    }
   ],
   "source": [
    "# Create column t\n",
    "wl1['t'] = df_wl.values\n",
    "print(wl1.head(13))"
   ]
  },
  {
   "cell_type": "code",
   "execution_count": 18,
   "metadata": {},
   "outputs": [
    {
     "name": "stdout",
     "output_type": "stream",
     "text": [
      "            t-12  t-11  t-10   t-9   t-8   t-7   t-6   t-5   t-4   t-3   t-2  \\\n",
      "Date                                                                           \n",
      "2010-01-17 -0.45 -0.75  0.06  0.25 -0.36 -0.34 -0.26 -0.10 -0.11 -0.02 -0.08   \n",
      "2010-01-18 -0.75  0.06  0.25 -0.36 -0.34 -0.26 -0.10 -0.11 -0.02 -0.08 -0.05   \n",
      "2010-01-19  0.06  0.25 -0.36 -0.34 -0.26 -0.10 -0.11 -0.02 -0.08 -0.05 -0.08   \n",
      "2010-01-20  0.25 -0.36 -0.34 -0.26 -0.10 -0.11 -0.02 -0.08 -0.05 -0.08 -0.06   \n",
      "2010-01-21 -0.36 -0.34 -0.26 -0.10 -0.11 -0.02 -0.08 -0.05 -0.08 -0.06  0.00   \n",
      "...          ...   ...   ...   ...   ...   ...   ...   ...   ...   ...   ...   \n",
      "2019-07-27  0.00  0.01  0.01 -0.26 -0.40 -0.10 -0.07  0.00  0.16  0.08  0.05   \n",
      "2019-07-28  0.01  0.01 -0.26 -0.40 -0.10 -0.07  0.00  0.16  0.08  0.05  0.04   \n",
      "2019-07-29  0.01 -0.26 -0.40 -0.10 -0.07  0.00  0.16  0.08  0.05  0.04  0.02   \n",
      "2019-07-30 -0.26 -0.40 -0.10 -0.07  0.00  0.16  0.08  0.05  0.04  0.02  0.30   \n",
      "2019-07-31 -0.40 -0.10 -0.07  0.00  0.16  0.08  0.05  0.04  0.02  0.30  0.11   \n",
      "\n",
      "             t-1     t  \n",
      "Date                    \n",
      "2010-01-17 -0.05 -0.08  \n",
      "2010-01-18 -0.08 -0.06  \n",
      "2010-01-19 -0.06  0.00  \n",
      "2010-01-20  0.00 -0.05  \n",
      "2010-01-21 -0.05 -0.04  \n",
      "...          ...   ...  \n",
      "2019-07-27  0.04  0.02  \n",
      "2019-07-28  0.02  0.30  \n",
      "2019-07-29  0.30  0.11  \n",
      "2019-07-30  0.11 -0.25  \n",
      "2019-07-31 -0.25 -0.25  \n",
      "\n",
      "[3483 rows x 13 columns]\n"
     ]
    }
   ],
   "source": [
    "# Create a new subsetted dataframe, removing Nans from first 12 rows\n",
    "wl1_kk = wl1[13:]\n",
    "print(wl1_kk)"
   ]
  },
  {
   "cell_type": "code",
   "execution_count": 19,
   "metadata": {},
   "outputs": [],
   "source": [
    "# save to new file\n",
    "wl1_kk.to_csv('waterlevel_lags_features.csv', index=False)"
   ]
  }
 ],
 "metadata": {
  "kernelspec": {
   "display_name": "Python 3",
   "language": "python",
   "name": "python3"
  },
  "language_info": {
   "codemirror_mode": {
    "name": "ipython",
    "version": 3
   },
   "file_extension": ".py",
   "mimetype": "text/x-python",
   "name": "python",
   "nbconvert_exporter": "python",
   "pygments_lexer": "ipython3",
   "version": "3.8.5"
  }
 },
 "nbformat": 4,
 "nbformat_minor": 4
}
